{
 "cells": [
  {
   "cell_type": "markdown",
   "metadata": {},
   "source": [
    "# MulR variation with PSR"
   ]
  },
  {
   "cell_type": "code",
   "execution_count": 1,
   "metadata": {},
   "outputs": [
    {
     "name": "stderr",
     "output_type": "stream",
     "text": [
      "Using TensorFlow backend.\n"
     ]
    }
   ],
   "source": [
    "from utils import * "
   ]
  },
  {
   "cell_type": "code",
   "execution_count": 2,
   "metadata": {},
   "outputs": [],
   "source": [
    "nltk_tokenizer = RegexpTokenizer(\"\\\\#+[\\\\w_]+[\\\\w\\\\'_\\\\-]*[\\\\w_]+|@[\\\\w_]+|[a-zA-Z'ÁÉÍÓÚáéíóúñÑüÜ]+-*[a-zA-Z'ÁÉÍÓÚáéíóúñÑüÜ]+|[a-zA-Z'ÁÉÍÓÚáéíóúñÑüÜ]+|[<>]?[:;=8][\\\\-o\\\\*\\\\']?[\\\\)\\\\]\\\\(\\\\[oOdDpP/\\\\:\\\\}\\\\{@\\\\|\\\\\\\\3\\\\*]|[\\\\)\\\\]\\\\(\\\\[oOdDpP/\\\\:\\\\}\\\\{@\\\\|\\\\\\\\3\\\\*][\\\\-o\\\\*\\\\']?[:;=8][<>]?|[.]+|[/,$?:;!()&%#=+{}*~.]+\")"
   ]
  },
  {
   "cell_type": "code",
   "execution_count": 4,
   "metadata": {},
   "outputs": [
    {
     "name": "stdout",
     "output_type": "stream",
     "text": [
      "Training conversations:  (66927,)  Training labels:  (66927,)\n",
      "\n",
      "Testing conversations:  (155128,)  Testing labels:  (155128,)\n",
      "\n"
     ]
    },
    {
     "data": {
      "text/html": [
       "<div>\n",
       "<style scoped>\n",
       "    .dataframe tbody tr th:only-of-type {\n",
       "        vertical-align: middle;\n",
       "    }\n",
       "\n",
       "    .dataframe tbody tr th {\n",
       "        vertical-align: top;\n",
       "    }\n",
       "\n",
       "    .dataframe thead th {\n",
       "        text-align: right;\n",
       "    }\n",
       "</style>\n",
       "<table border=\"1\" class=\"dataframe\">\n",
       "  <thead>\n",
       "    <tr style=\"text-align: right;\">\n",
       "      <th></th>\n",
       "      <th>0</th>\n",
       "      <th>1</th>\n",
       "      <th>2</th>\n",
       "    </tr>\n",
       "  </thead>\n",
       "  <tbody>\n",
       "    <tr>\n",
       "      <th>0</th>\n",
       "      <td>bugmail: [Bug 6978] New: Mark eof-terminated s...</td>\n",
       "      <td>15:24</td>\n",
       "      <td>0</td>\n",
       "    </tr>\n",
       "    <tr>\n",
       "      <th>1</th>\n",
       "      <td>back ok babe what happend babe dog wanted out ...</td>\n",
       "      <td>19:28</td>\n",
       "      <td>1</td>\n",
       "    </tr>\n",
       "    <tr>\n",
       "      <th>2</th>\n",
       "      <td>hello boys are shit that they are hi sorry i w...</td>\n",
       "      <td>03:10</td>\n",
       "      <td>0</td>\n",
       "    </tr>\n",
       "    <tr>\n",
       "      <th>3</th>\n",
       "      <td>hi hii hous it going? w r u from ?</td>\n",
       "      <td>10:36</td>\n",
       "      <td>0</td>\n",
       "    </tr>\n",
       "    <tr>\n",
       "      <th>4</th>\n",
       "      <td>hello there how are ya? hey so, where are you ...</td>\n",
       "      <td>14:11</td>\n",
       "      <td>0</td>\n",
       "    </tr>\n",
       "  </tbody>\n",
       "</table>\n",
       "</div>"
      ],
      "text/plain": [
       "                                                   0      1  2\n",
       "0  bugmail: [Bug 6978] New: Mark eof-terminated s...  15:24  0\n",
       "1  back ok babe what happend babe dog wanted out ...  19:28  1\n",
       "2  hello boys are shit that they are hi sorry i w...  03:10  0\n",
       "3                hi hii hous it going? w r u from ?   10:36  0\n",
       "4  hello there how are ya? hey so, where are you ...  14:11  0"
      ]
     },
     "execution_count": 4,
     "metadata": {},
     "output_type": "execute_result"
    }
   ],
   "source": [
    "# Loading training data\n",
    "PATH = '../../Data/train.csv' \n",
    "df  = pd.read_csv(PATH,encoding='utf-8',header=None)\n",
    "Xss_train = df[0]\n",
    "Xss_time_train = df[1] # This value is useless in this method\n",
    "Ys_train = df[2]\n",
    "print(\"Training conversations: \",Xss_train.shape,\" Training labels: \",Ys_train.shape)\n",
    "print()\n",
    "\n",
    "#############################################################\n",
    "\n",
    "# Loading training data\n",
    "PATH = '../../Data/test.csv'\n",
    "df  = pd.read_csv(PATH,encoding='utf-8',header=None)\n",
    "Xss_test = df[0]\n",
    "Xss_time_test = df[1]# This value is useless in this method\n",
    "Ys_test = df[2]\n",
    "print(\"Testing conversations: \",Xss_test.shape,\" Testing labels: \",Ys_test.shape)\n",
    "print()"
   ]
  },
  {
   "cell_type": "markdown",
   "metadata": {},
   "source": [
    "# Simple preprocessing to the data"
   ]
  },
  {
   "cell_type": "code",
   "execution_count": 4,
   "metadata": {},
   "outputs": [
    {
     "name": "stdout",
     "output_type": "stream",
     "text": [
      "Training documents ... 66927\n",
      "Testing documents ... 155128\n"
     ]
    }
   ],
   "source": [
    "# Processing the training 100% of the documents\n",
    "clean_tr_txt = [] \n",
    "for document in Xss_train:\n",
    "    new_document = [document.lower()]\n",
    "    clean_tr_txt += new_document\n",
    "tr_txt = clean_tr_txt\n",
    "print(\"Training documents ...\",len(tr_txt))\n",
    "\n",
    "# Processing the testing 100% of the documents\n",
    "clean_te_txt = [] \n",
    "for document in Xss_test:\n",
    "    new_document = [document.lower()]\n",
    "    clean_te_txt += new_document\n",
    "te_txt = clean_te_txt\n",
    "print(\"Testing documents ...\",len(te_txt)) # te_txt contine 100% de la info"
   ]
  },
  {
   "cell_type": "code",
   "execution_count": 5,
   "metadata": {},
   "outputs": [
    {
     "name": "stdout",
     "output_type": "stream",
     "text": [
      "Vocabulary :  14656\n",
      "TR:  (66927, 14656)\n",
      "TR[0,:10]:  [0 0 0 0 0 0 0 0 0 0 0 0 0 0 0 0 0 0 0 0 0 0 0 0 0 0 0 0 0 0 0 0 0 0 0 0 0\n",
      " 0 0 0 0 0 0 0 0 0 0 0 0 0 0 0 0 0 0 0 0 0 0 0 0 0 0 0 0 0 0 0 0 0 0 0 0 0\n",
      " 0 0 0 0 0 0 0 0 0 0 0 0 0 0 0 0 0 0 0 0 0 0 0 0 0 0]\n",
      "TE:  (155128, 14656)\n"
     ]
    },
    {
     "data": {
      "text/plain": [
       "0"
      ]
     },
     "execution_count": 5,
     "metadata": {},
     "output_type": "execute_result"
    }
   ],
   "source": [
    "# Creating TR with sklearn \n",
    "vectorizer = CountVectorizer(min_df = 10) \n",
    "X = vectorizer.fit_transform(tr_txt)\n",
    "print(\"Vocabulary : \",len(vectorizer.get_feature_names()))\n",
    "vocabulary = vectorizer.get_feature_names()\n",
    "TR = X.toarray()\n",
    "print(\"TR: \", TR.shape)\n",
    "print(\"TR[0,:10]: \", str(TR[0,:100])) \n",
    "\n",
    "\n",
    "X2 = vectorizer.transform(te_txt)\n",
    "TE = X2.toarray()\n",
    "print(\"TE: \", TE.shape)\n",
    "\n",
    "saving_pkl(vectorizer,\"Savings/vectorizer.pkl\")\n",
    "\n",
    "del vectorizer,X,X2\n",
    "gc.collect()"
   ]
  },
  {
   "cell_type": "markdown",
   "metadata": {},
   "source": [
    "# Replacing the embeddings with the PSR method"
   ]
  },
  {
   "cell_type": "code",
   "execution_count": 6,
   "metadata": {},
   "outputs": [],
   "source": [
    "def PSR_weight_schema(documents,labels,vocabulary):\n",
    "    '''\n",
    "    Args:\n",
    "        documents : ##Train## documents tokenized\n",
    "        labels : groomer non-groomer\n",
    "        vocabulary : list of unique tokens\n",
    "    Outputs:\n",
    "        PSR --> words_weights : dic[token] = [NG,G]\n",
    "    '''\n",
    "    number_classes = 2\n",
    "    \n",
    "    # Inicialize the w_tokens dictionary\n",
    "    words_weights = dict() \n",
    "    for v in vocabulary:\n",
    "        words_weights[v] =  [0,0]\n",
    "        \n",
    "    print(\"len(vocabulary): \",len(vocabulary),\" len(words_weights): \",len(words_weights))\n",
    "    N = len(documents)\n",
    "    \n",
    "    # Calculating frequency (TF) for each token for each class\n",
    "    for label,document in tqdm(zip(labels,documents),total=len(labels)):\n",
    "        \n",
    "        document = document.split()\n",
    "        # Group each unique token and its frequency Exemp: counter[hi] = 45\n",
    "        counter = Counter(document)\n",
    "        for token in np.unique(document):\n",
    "            if token not in vocabulary:\n",
    "                continue \n",
    "            \n",
    "            '''\n",
    "            Normal tf\n",
    "            '''\n",
    "            tf = counter[token]\n",
    "            w_token = np.log2((1+ (tf / len(document))))\n",
    "            words_weights[token][label] += w_token # Only give weights to tokens that belong to the vocabulary (obtain with train set)\n",
    "\n",
    "\n",
    "    df = pd.DataFrame.from_dict(words_weights,orient = 'index')\n",
    "    X = df.values\n",
    "    # Normalization 1)\n",
    "    X_std = X / (X.sum(axis=0,keepdims=True)) \n",
    "    # Normalization 2)\n",
    "    X_std = X_std / (X_std.sum(axis=1,keepdims=True)) \n",
    "    id = 0\n",
    "    for key,values in words_weights.items():\n",
    "        words_weights[key] = np.nan_to_num(X_std[id])\n",
    "        id += 1\n",
    " \n",
    "    return words_weights\n"
   ]
  },
  {
   "cell_type": "code",
   "execution_count": 7,
   "metadata": {
    "scrolled": true
   },
   "outputs": [],
   "source": [
    "#words_weights = PSR_weight_schema(tr_txt,np.asarray(Ys_train),vocabulary)\n",
    "#saving_pkl(words_weights,\"Savings/words_weights_psr\")\n",
    "words_weights = loading_pkl(\"Savings/words_weights_psr\")"
   ]
  },
  {
   "cell_type": "code",
   "execution_count": 8,
   "metadata": {},
   "outputs": [
    {
     "name": "stdout",
     "output_type": "stream",
     "text": [
      "(14656, 2)   (66927, 14656)\n",
      "[0. 0.]\n"
     ]
    }
   ],
   "source": [
    "voc_size = len(vocabulary)\n",
    "DTR = np.zeros((voc_size, 2), dtype=np.float)\n",
    "for e in range(0,voc_size):\n",
    "    DTR[e] = words_weights[vocabulary[e]]\n",
    "print(DTR.shape,\" \",TR.shape)\n",
    "print(DTR[40])"
   ]
  },
  {
   "cell_type": "code",
   "execution_count": 9,
   "metadata": {},
   "outputs": [
    {
     "name": "stdout",
     "output_type": "stream",
     "text": [
      "142.91493153572083\n"
     ]
    }
   ],
   "source": [
    "def BoC(TR, DTR, codebook):\n",
    "    \n",
    "    code, dist = vq.vq(DTR, codebook)\n",
    "    new_word_metaword = {}\n",
    "    for index in range(0,TR.shape[1]): \n",
    "        new_word_metaword[index] = code[index] \n",
    "\n",
    "    TR_DDR = []\n",
    "    for tr_doc in TR:\n",
    "        doc = []\n",
    "        for w in np.nonzero(tr_doc)[0]:\n",
    "            for occurrence in range(int(tr_doc[w])):\n",
    "                doc += [new_word_metaword[w]]\n",
    "        histogram_of_metawords, bin_edges = histogram(doc, bins=range(len(codebook) + 1))\n",
    "        TR_DDR += [histogram_of_metawords]\n",
    "\n",
    "    TR_DDR = np.asarray(TR_DDR)\n",
    "    TR_DDR=preprocessing.normalize(TR_DDR, norm='l1')\n",
    "    return TR_DDR\n",
    "\n",
    "start = time.time()\n",
    "R = [10, 50, 100, 500,1000]\n",
    "codebooks = []\n",
    "for r in R:\n",
    "    clusterer = KMeans(n_clusters=r, n_jobs=4, random_state=1)\n",
    "    clusterer.fit(DTR)\n",
    "    codebook = clusterer.cluster_centers_\n",
    "    codebooks += [codebook]\n",
    "    \n",
    "TR_DDR = BoC(TR, DTR, codebooks[0])\n",
    "for i in range(1, len(codebooks)):\n",
    "    TR_DDR = np.concatenate((TR_DDR, BoC(TR, DTR, codebooks[i])), axis=1)\n",
    "\n",
    "end = time.time()\n",
    "print(end - start)"
   ]
  },
  {
   "cell_type": "code",
   "execution_count": 10,
   "metadata": {
    "scrolled": true
   },
   "outputs": [
    {
     "name": "stdout",
     "output_type": "stream",
     "text": [
      "(66927, 1660)\n",
      "[0.15142857 0.08285714 0.10571429 ... 0.         0.         0.        ]\n"
     ]
    }
   ],
   "source": [
    "print(TR_DDR.shape)\n",
    "print(TR_DDR[0])"
   ]
  },
  {
   "cell_type": "markdown",
   "metadata": {},
   "source": [
    "# Testing set"
   ]
  },
  {
   "cell_type": "code",
   "execution_count": 11,
   "metadata": {
    "scrolled": true
   },
   "outputs": [
    {
     "name": "stdout",
     "output_type": "stream",
     "text": [
      "(155128, 1660)\n",
      "[0.25473322 0.04991394 0.10499139 ... 0.         0.         0.00172117]\n"
     ]
    }
   ],
   "source": [
    "TE_DDR = BoC(TE, DTR, codebooks[0])\n",
    "for i in range(1, len(codebooks)):\n",
    "    TE_DDR = np.concatenate((TE_DDR, BoC(TE, DTR, codebooks[i])), axis=1)\n",
    "\n",
    "\n",
    "print(TE_DDR.shape)\n",
    "print(TE_DDR[0]) "
   ]
  },
  {
   "cell_type": "markdown",
   "metadata": {},
   "source": [
    "# Training the SVM classifier"
   ]
  },
  {
   "cell_type": "code",
   "execution_count": 12,
   "metadata": {},
   "outputs": [
    {
     "name": "stdout",
     "output_type": "stream",
     "text": [
      "(66927,)   (155128,)\n",
      "F1 mesure with 100% of the information:  0.4257\n"
     ]
    }
   ],
   "source": [
    "# Transform labels into arrays\n",
    "Y_train = np.asarray(Ys_train)\n",
    "Y_test = np.asarray(Ys_test)\n",
    "print(Y_train.shape,\" \",Y_test.shape)\n",
    "\n",
    "# Training the classfier\n",
    "svr = svm.LinearSVC(class_weight='balanced')\n",
    "grid=svr\n",
    "grid.fit(TR_DDR, Y_train) \n",
    "\n",
    "# Obtaining the predictions\n",
    "y_pred = grid.predict(TE_DDR)\n",
    "\n",
    "# Performing F1 mesure of the positive (groomer) class\n",
    "\n",
    "f1_g = np.round(metrics.f1_score(Y_test,y_pred,average='binary',pos_label=1),4)\n",
    "print(\"F1 mesure with 100% of the information: \",f1_g)"
   ]
  },
  {
   "cell_type": "markdown",
   "metadata": {},
   "source": [
    "# Online stage\n",
    "## Simulating predictions with different percentage of the conversations"
   ]
  },
  {
   "cell_type": "code",
   "execution_count": 13,
   "metadata": {},
   "outputs": [],
   "source": [
    "def get_percentage_document(documents,retains):\n",
    "\n",
    "    info_documents = []\n",
    "    \n",
    "    # Tokenize every single document and saving them in a matrix, we save the size of the doc to.\n",
    "    start = time.time()\n",
    "    for document in tqdm(documents):\n",
    "        document_tokenize = nltk.word_tokenize(document)\n",
    "        document_size = len(document_tokenize)\n",
    "        info_documents.append([document_size,document_tokenize])\n",
    "    end = time.time()\n",
    "    print('Time: ',end-start)\n",
    "    # Creating a set of documents, each of then with different percentages (%)\n",
    "    final_documents = []\n",
    "    for percent in retains:\n",
    "        \n",
    "        print(\"---------------------------------------- \",percent,\" ---------------------------------------------\")\n",
    "        reduce_documents = []\n",
    "        if retains != 1:\n",
    "            # Iteraits each doc and take only (%)\n",
    "            for element in info_documents:\n",
    "                document_size = element[0]\n",
    "                document_tokenize = element[1]\n",
    "                num_terms = round(document_size * percent)\n",
    "                reduce_doc = document_tokenize[:num_terms]\n",
    "                reduce_doc = ' '.join(reduce_doc)\n",
    "                reduce_doc = reduce_doc.lower()\n",
    "                reduce_documents.append(reduce_doc)\n",
    "        else:\n",
    "            print(\"100% of info\") # In this case, we take everything\n",
    "            for element in info_documents:\n",
    "                document_size = element[0]\n",
    "                document_tokenize = element[1]\n",
    "                #num_terms = round(document_size * percent)\n",
    "                reduce_doc = document_tokenize[:document_size] # In this case, we take everything\n",
    "                reduce_doc = ' '.join(reduce_doc)\n",
    "                reduce_doc = reduce_doc.lower()\n",
    "                reduce_documents.append(reduce_doc)\n",
    "        final_documents.append(reduce_documents)\n",
    "\n",
    "    # final_documents= [[all_docs(1%)][all_docs(2%)][all_docs(3%)][...][all_docs(100%)]]\n",
    "    return final_documents"
   ]
  },
  {
   "cell_type": "code",
   "execution_count": 14,
   "metadata": {},
   "outputs": [
    {
     "name": "stdout",
     "output_type": "stream",
     "text": [
      "155128   155128\n"
     ]
    }
   ],
   "source": [
    "retains = [0.1,0.2,0.3,0.4,0.5,0.6,0.7,0.8,0.9,1]\n",
    "#final_documents = get_percentage_document(Xss_test,retains)\n",
    "#saving_pkl(final_documents,\"Savings/finalDocuments.pkl\")\n",
    "final_documents = loading_pkl(\"Savings/finalDocuments.pkl\")\n",
    "print(len(final_documents[0]),\" \",len(final_documents[9]))"
   ]
  },
  {
   "cell_type": "markdown",
   "metadata": {},
   "source": [
    "# Preprocessing each chunk"
   ]
  },
  {
   "cell_type": "code",
   "execution_count": 15,
   "metadata": {},
   "outputs": [
    {
     "name": "stdout",
     "output_type": "stream",
     "text": [
      "----------------------------------------  0.1  ---------------------------------------------\n",
      "TE:  (155128, 14656)\n",
      "TE_DDR:  (155128, 1660)\n",
      "----------------------------------------  0.2  ---------------------------------------------\n",
      "TE:  (155128, 14656)\n",
      "TE_DDR:  (155128, 1660)\n",
      "----------------------------------------  0.3  ---------------------------------------------\n",
      "TE:  (155128, 14656)\n",
      "TE_DDR:  (155128, 1660)\n",
      "----------------------------------------  0.4  ---------------------------------------------\n",
      "TE:  (155128, 14656)\n",
      "TE_DDR:  (155128, 1660)\n",
      "----------------------------------------  0.5  ---------------------------------------------\n",
      "TE:  (155128, 14656)\n",
      "TE_DDR:  (155128, 1660)\n",
      "----------------------------------------  0.6  ---------------------------------------------\n",
      "TE:  (155128, 14656)\n",
      "TE_DDR:  (155128, 1660)\n",
      "----------------------------------------  0.7  ---------------------------------------------\n",
      "TE:  (155128, 14656)\n",
      "TE_DDR:  (155128, 1660)\n",
      "----------------------------------------  0.8  ---------------------------------------------\n",
      "TE:  (155128, 14656)\n",
      "TE_DDR:  (155128, 1660)\n",
      "----------------------------------------  0.9  ---------------------------------------------\n",
      "TE:  (155128, 14656)\n",
      "TE_DDR:  (155128, 1660)\n",
      "----------------------------------------  1  ---------------------------------------------\n",
      "TE:  (155128, 14656)\n",
      "TE_DDR:  (155128, 1660)\n",
      "2655.878442764282\n",
      "10\n"
     ]
    }
   ],
   "source": [
    "start = time.time()\n",
    "TE_DDRs = []\n",
    "# Iterates over each chunk of text\n",
    "for te,percent in zip(final_documents,retains):\n",
    "    print(\"---------------------------------------- \",percent,\" ---------------------------------------------\")\n",
    "    vectorrizer_oficial = loading_pkl(\"Savings/vectorizer.pkl\")\n",
    "    X2 = vectorrizer_oficial.transform(te)\n",
    "    TE = X2.toarray()\n",
    "    print(\"TE: \", TE.shape)\n",
    "    del X2,vectorrizer_oficial\n",
    "    gc.collect()\n",
    "    TE_DDR = BoC(TE, DTR, codebooks[0])\n",
    "    for i in range(1, len(codebooks)):\n",
    "        TE_DDR = np.concatenate((TE_DDR, BoC(TE, DTR, codebooks[i])), axis=1)\n",
    "    print(\"TE_DDR: \",TE_DDR.shape)\n",
    "    TE_DDRs += [TE_DDR]\n",
    "\n",
    "end = time.time()\n",
    "print(end - start)\n",
    "print(len(TE_DDRs))"
   ]
  },
  {
   "cell_type": "markdown",
   "metadata": {},
   "source": [
    "# Predictions with partial information"
   ]
  },
  {
   "cell_type": "code",
   "execution_count": 16,
   "metadata": {},
   "outputs": [
    {
     "name": "stdout",
     "output_type": "stream",
     "text": [
      "RESULTS PER CHUNK: \n",
      "CLASSIFICATION FOR CHUNK: 1\n",
      "F1 mesure with  10 % of the information available:  0.0937\n",
      "==================================================\n",
      "CLASSIFICATION FOR CHUNK: 2\n",
      "F1 mesure with  20 % of the information available:  0.1314\n",
      "==================================================\n",
      "CLASSIFICATION FOR CHUNK: 3\n",
      "F1 mesure with  30 % of the information available:  0.1737\n",
      "==================================================\n",
      "CLASSIFICATION FOR CHUNK: 4\n",
      "F1 mesure with  40 % of the information available:  0.2136\n",
      "==================================================\n",
      "CLASSIFICATION FOR CHUNK: 5\n",
      "F1 mesure with  50 % of the information available:  0.2522\n",
      "==================================================\n",
      "CLASSIFICATION FOR CHUNK: 6\n",
      "F1 mesure with  60 % of the information available:  0.2892\n",
      "==================================================\n",
      "CLASSIFICATION FOR CHUNK: 7\n",
      "F1 mesure with  70 % of the information available:  0.3302\n",
      "==================================================\n",
      "CLASSIFICATION FOR CHUNK: 8\n",
      "F1 mesure with  80 % of the information available:  0.3597\n",
      "==================================================\n",
      "CLASSIFICATION FOR CHUNK: 9\n",
      "F1 mesure with  90 % of the information available:  0.3948\n",
      "==================================================\n",
      "CLASSIFICATION FOR CHUNK: 10\n",
      "F1 mesure with  100 % of the information available:  0.4247\n",
      "==================================================\n"
     ]
    }
   ],
   "source": [
    "retains = [None,10,20,30,40,50,60,70,80,90,100]\n",
    "svr = svm.LinearSVC(class_weight='balanced')\n",
    "grid=svr\n",
    "grid.fit(TR_DDR, Y_train) \n",
    "print(\"RESULTS PER CHUNK: \")\n",
    "hist_f=[]\n",
    "\n",
    "i=1\n",
    "for TE_DDR in TE_DDRs:\n",
    "    \n",
    "    print(\"CLASSIFICATION FOR CHUNK:\", i)\n",
    "    y_pred = grid.predict(TE_DDR)\n",
    "\n",
    "    f1_g = np.round(metrics.f1_score(Y_test,y_pred,average='binary',pos_label=1),4)\n",
    "    print(\"F1 mesure with \",retains[i], \"% of the information available: \",f1_g)\n",
    "    print(\"=\"*50)\n",
    "\n",
    "    hist_f.append(f1_g)\n",
    "    i += 1"
   ]
  },
  {
   "cell_type": "markdown",
   "metadata": {},
   "source": [
    "# Testing with SGD testing corpus"
   ]
  },
  {
   "cell_type": "code",
   "execution_count": 17,
   "metadata": {},
   "outputs": [
    {
     "data": {
      "image/png": "[encoded data removed]",
      "text/plain": [
       "<Figure size 1000x400 with 1 Axes>"
      ]
     },
     "metadata": {},
     "output_type": "display_data"
    }
   ],
   "source": [
    "results = hist_f.copy()\n",
    "plotting(results,\"#DBC557\",\"<\",\"MulR-PSR\")"
   ]
  },
  {
   "cell_type": "code",
   "execution_count": 23,
   "metadata": {},
   "outputs": [],
   "source": [
    "def pre_processing(doc_partial):\n",
    "    new_doc = list()\n",
    "    for doc in doc_partial:\n",
    "        new_doc.append(doc.lower())            \n",
    "    return new_doc"
   ]
  },
  {
   "cell_type": "code",
   "execution_count": 26,
   "metadata": {},
   "outputs": [],
   "source": [
    "def calculating_preds(PATH,num_chunks):\n",
    "\n",
    "    print(\"Extracting conversations\")\n",
    "    data_set = loading_pkl(PATH) \n",
    "    matrix_text,labels,start_time_conversations,number_participants,matrix = data_set\n",
    "    print(\"%text: \",(matrix_text.shape))\n",
    "    print(\"labels: \",len(labels),labels[0])\n",
    "    print(\"start_time_conversations: \",len(start_time_conversations),start_time_conversations[0])\n",
    "    print(\"# participants: \",(number_participants.shape),number_participants[0][0])\n",
    "    print(\"%int matrix: \",(matrix.shape),matrix[0][0])\n",
    "    print(\"+\"*40)\n",
    "    \n",
    "    \n",
    "    probs = list()\n",
    "    TE_DDRs = []\n",
    "    retains = [0.1,0.2,0.3,0.4,0.5,0.6,0.7,0.8,0.9,1]\n",
    "        \n",
    "    for  chunk in range(num_chunks):\n",
    "        doc_partial = matrix_text[:,chunk]\n",
    "        Y_partial = labels\n",
    "        groomer_before = sum([1 for i in Y_partial if i ==1])\n",
    "        \n",
    "        '''Preprocessing'''\n",
    "        doc_partial = pre_processing(doc_partial)\n",
    "        Y_partial = np.asarray(Y_partial)\n",
    "        groomer_after = sum([1 for i in Y_partial if i ==1])        \n",
    "        \n",
    "        vectorrizer_oficial = loading_pkl(\"Savings/vectorizer.pkl\")\n",
    "        X2 = vectorrizer_oficial.transform(doc_partial)\n",
    "        TE = X2.toarray()\n",
    "        print(\"TE: \", TE.shape)\n",
    "        del X2,vectorrizer_oficial\n",
    "        gc.collect()\n",
    "        TE_DDR = BoC(TE, DTR, codebooks[0])\n",
    "        for i in range(1, len(codebooks)):\n",
    "            TE_DDR = np.concatenate((TE_DDR, BoC(TE, DTR, codebooks[i])), axis=1)\n",
    "        print(\"TE_DDR: \",TE_DDR.shape)\n",
    "        TE_DDRs += [TE_DDR]\n",
    "        print(\"*\"*20)\n",
    "        \n",
    "    retains = [None,10,20,30,40,50,60,70,80,90,100]\n",
    "    print(\"RESULTS PER CHUNK: \")\n",
    "    hist_f=[]\n",
    "\n",
    "    i=1\n",
    "    for TE_DDR in TE_DDRs:\n",
    "\n",
    "        print(\"CLASSIFICATION FOR CHUNK:\", i)\n",
    "        y_pred = grid.predict(TE_DDR)\n",
    "\n",
    "        f1_g = np.round(metrics.f1_score(labels,y_pred,average='binary',pos_label=1),4)\n",
    "        print(\"F1 mesure with \",retains[i], \"% of the information available: \",f1_g)\n",
    "        print(\"=\"*50)\n",
    "\n",
    "        hist_f.append(f1_g)\n",
    "        i += 1\n",
    "\n",
    "    print(hist_f)\n",
    "    results = hist_f.copy()\n",
    "    plotting(results,\"#DBC557\",\"<\",\"MulR-PSR\")\n",
    "    return TE_DDRs,labels"
   ]
  },
  {
   "cell_type": "markdown",
   "metadata": {},
   "source": [
    "# Testing with PJZC dataset"
   ]
  },
  {
   "cell_type": "code",
   "execution_count": 27,
   "metadata": {},
   "outputs": [
    {
     "name": "stdout",
     "output_type": "stream",
     "text": [
      "Extracting conversations\n",
      "%text:  (21070, 10)\n",
      "labels:  21070 0\n",
      "start_time_conversations:  21070 18:10\n",
      "# participants:  (21070, 10) [1]\n",
      "%int matrix:  (21070, 10) [1. 0. 0. 0. 0.]\n",
      "++++++++++++++++++++++++++++++++++++++++\n",
      "TE:  (21070, 14656)\n",
      "TE_DDR:  (21070, 1660)\n",
      "********************\n",
      "TE:  (21070, 14656)\n",
      "TE_DDR:  (21070, 1660)\n",
      "********************\n",
      "TE:  (21070, 14656)\n",
      "TE_DDR:  (21070, 1660)\n",
      "********************\n",
      "TE:  (21070, 14656)\n",
      "TE_DDR:  (21070, 1660)\n",
      "********************\n",
      "TE:  (21070, 14656)\n",
      "TE_DDR:  (21070, 1660)\n",
      "********************\n",
      "TE:  (21070, 14656)\n",
      "TE_DDR:  (21070, 1660)\n",
      "********************\n",
      "TE:  (21070, 14656)\n",
      "TE_DDR:  (21070, 1660)\n",
      "********************\n",
      "TE:  (21070, 14656)\n",
      "TE_DDR:  (21070, 1660)\n",
      "********************\n",
      "TE:  (21070, 14656)\n",
      "TE_DDR:  (21070, 1660)\n",
      "********************\n",
      "TE:  (21070, 14656)\n",
      "TE_DDR:  (21070, 1660)\n",
      "********************\n",
      "RESULTS PER CHUNK: \n",
      "CLASSIFICATION FOR CHUNK: 1\n",
      "F1 mesure with  10 % of the information available:  0.2614\n",
      "==================================================\n",
      "CLASSIFICATION FOR CHUNK: 2\n",
      "F1 mesure with  20 % of the information available:  0.2883\n",
      "==================================================\n",
      "CLASSIFICATION FOR CHUNK: 3\n",
      "F1 mesure with  30 % of the information available:  0.307\n",
      "==================================================\n",
      "CLASSIFICATION FOR CHUNK: 4\n",
      "F1 mesure with  40 % of the information available:  0.3239\n",
      "==================================================\n",
      "CLASSIFICATION FOR CHUNK: 5\n",
      "F1 mesure with  50 % of the information available:  0.3361\n",
      "==================================================\n",
      "CLASSIFICATION FOR CHUNK: 6\n",
      "F1 mesure with  60 % of the information available:  0.3434\n",
      "==================================================\n",
      "CLASSIFICATION FOR CHUNK: 7\n",
      "F1 mesure with  70 % of the information available:  0.3538\n",
      "==================================================\n",
      "CLASSIFICATION FOR CHUNK: 8\n",
      "F1 mesure with  80 % of the information available:  0.3572\n",
      "==================================================\n",
      "CLASSIFICATION FOR CHUNK: 9\n",
      "F1 mesure with  90 % of the information available:  0.3598\n",
      "==================================================\n",
      "CLASSIFICATION FOR CHUNK: 10\n",
      "F1 mesure with  100 % of the information available:  0.3605\n",
      "==================================================\n",
      "[0.2614, 0.2883, 0.307, 0.3239, 0.3361, 0.3434, 0.3538, 0.3572, 0.3598, 0.3605]\n"
     ]
    },
    {
     "data": {
      "image/png": "[encoded data removed]",
      "text/plain": [
       "<Figure size 1000x400 with 1 Axes>"
      ]
     },
     "metadata": {},
     "output_type": "display_data"
    }
   ],
   "source": [
    "PATH = \"../../Data/PJZC.pkl\"\n",
    "TE_DDRs,labels = calculating_preds(PATH,10)"
   ]
  },
  {
   "cell_type": "markdown",
   "metadata": {},
   "source": [
    "# Testing with the PJZ dataset"
   ]
  },
  {
   "cell_type": "code",
   "execution_count": 28,
   "metadata": {},
   "outputs": [
    {
     "name": "stdout",
     "output_type": "stream",
     "text": [
      "Extracting conversations\n",
      "%text:  (13822, 10)\n",
      "labels:  13822 0\n",
      "start_time_conversations:  13822 05:16\n",
      "# participants:  (13822, 10) [2]\n",
      "%int matrix:  (13822, 10) [0.625 0.375 0.    0.    0.   ]\n",
      "++++++++++++++++++++++++++++++++++++++++\n",
      "TE:  (13822, 14656)\n",
      "TE_DDR:  (13822, 1660)\n",
      "********************\n",
      "TE:  (13822, 14656)\n",
      "TE_DDR:  (13822, 1660)\n",
      "********************\n",
      "TE:  (13822, 14656)\n",
      "TE_DDR:  (13822, 1660)\n",
      "********************\n",
      "TE:  (13822, 14656)\n",
      "TE_DDR:  (13822, 1660)\n",
      "********************\n",
      "TE:  (13822, 14656)\n",
      "TE_DDR:  (13822, 1660)\n",
      "********************\n",
      "TE:  (13822, 14656)\n",
      "TE_DDR:  (13822, 1660)\n",
      "********************\n",
      "TE:  (13822, 14656)\n",
      "TE_DDR:  (13822, 1660)\n",
      "********************\n",
      "TE:  (13822, 14656)\n",
      "TE_DDR:  (13822, 1660)\n",
      "********************\n",
      "TE:  (13822, 14656)\n",
      "TE_DDR:  (13822, 1660)\n",
      "********************\n",
      "TE:  (13822, 14656)\n",
      "TE_DDR:  (13822, 1660)\n",
      "********************\n",
      "RESULTS PER CHUNK: \n",
      "CLASSIFICATION FOR CHUNK: 1\n",
      "F1 mesure with  10 % of the information available:  0.5719\n",
      "==================================================\n",
      "CLASSIFICATION FOR CHUNK: 2\n",
      "F1 mesure with  20 % of the information available:  0.6248\n",
      "==================================================\n",
      "CLASSIFICATION FOR CHUNK: 3\n",
      "F1 mesure with  30 % of the information available:  0.6542\n",
      "==================================================\n",
      "CLASSIFICATION FOR CHUNK: 4\n",
      "F1 mesure with  40 % of the information available:  0.676\n",
      "==================================================\n",
      "CLASSIFICATION FOR CHUNK: 5\n",
      "F1 mesure with  50 % of the information available:  0.6919\n",
      "==================================================\n",
      "CLASSIFICATION FOR CHUNK: 6\n",
      "F1 mesure with  60 % of the information available:  0.7019\n",
      "==================================================\n",
      "CLASSIFICATION FOR CHUNK: 7\n",
      "F1 mesure with  70 % of the information available:  0.7113\n",
      "==================================================\n",
      "CLASSIFICATION FOR CHUNK: 8\n",
      "F1 mesure with  80 % of the information available:  0.713\n",
      "==================================================\n",
      "CLASSIFICATION FOR CHUNK: 9\n",
      "F1 mesure with  90 % of the information available:  0.7143\n",
      "==================================================\n",
      "CLASSIFICATION FOR CHUNK: 10\n",
      "F1 mesure with  100 % of the information available:  0.7167\n",
      "==================================================\n",
      "[0.5719, 0.6248, 0.6542, 0.676, 0.6919, 0.7019, 0.7113, 0.713, 0.7143, 0.7167]\n"
     ]
    },
    {
     "data": {
      "image/png": "[encoded data removed]",
      "text/plain": [
       "<Figure size 1000x400 with 1 Axes>"
      ]
     },
     "metadata": {},
     "output_type": "display_data"
    }
   ],
   "source": [
    "PATH = \"../../Data/PJZ.pkl\"\n",
    "TE_DDRs,labels = calculating_preds(PATH,10)"
   ]
  }
 ],
 "metadata": {
  "kernelspec": {
   "display_name": "Python 3",
   "language": "python",
   "name": "python3"
  },
  "language_info": {
   "codemirror_mode": {
    "name": "ipython",
    "version": 3
   },
   "file_extension": ".py",
   "mimetype": "text/x-python",
   "name": "python",
   "nbconvert_exporter": "python",
   "pygments_lexer": "ipython3",
   "version": "3.6.10"
  }
 },
 "nbformat": 4,
 "nbformat_minor": 4
}
