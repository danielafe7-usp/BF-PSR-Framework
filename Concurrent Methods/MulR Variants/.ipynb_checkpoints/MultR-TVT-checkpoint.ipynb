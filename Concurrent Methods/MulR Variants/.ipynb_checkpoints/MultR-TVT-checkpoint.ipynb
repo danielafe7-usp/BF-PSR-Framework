{
 "cells": [
  {
   "cell_type": "markdown",
   "metadata": {},
   "source": [
    "# MulR variation with TVT"
   ]
  },
  {
   "cell_type": "code",
   "execution_count": 1,
   "metadata": {},
   "outputs": [
    {
     "name": "stderr",
     "output_type": "stream",
     "text": [
      "Using TensorFlow backend.\n"
     ]
    }
   ],
   "source": [
    "from utils import * "
   ]
  },
  {
   "cell_type": "code",
   "execution_count": 2,
   "metadata": {},
   "outputs": [],
   "source": [
    "nltk_tokenizer = RegexpTokenizer(\"\\\\#+[\\\\w_]+[\\\\w\\\\'_\\\\-]*[\\\\w_]+|@[\\\\w_]+|[a-zA-Z'ÁÉÍÓÚáéíóúñÑüÜ]+-*[a-zA-Z'ÁÉÍÓÚáéíóúñÑüÜ]+|[a-zA-Z'ÁÉÍÓÚáéíóúñÑüÜ]+|[<>]?[:;=8][\\\\-o\\\\*\\\\']?[\\\\)\\\\]\\\\(\\\\[oOdDpP/\\\\:\\\\}\\\\{@\\\\|\\\\\\\\3\\\\*]|[\\\\)\\\\]\\\\(\\\\[oOdDpP/\\\\:\\\\}\\\\{@\\\\|\\\\\\\\3\\\\*][\\\\-o\\\\*\\\\']?[:;=8][<>]?|[.]+|[/,$?:;!()&%#=+{}*~.]+\")\n"
   ]
  },
  {
   "cell_type": "markdown",
   "metadata": {},
   "source": [
    "# Loading training and testing set"
   ]
  },
  {
   "cell_type": "code",
   "execution_count": 3,
   "metadata": {},
   "outputs": [
    {
     "name": "stdout",
     "output_type": "stream",
     "text": [
      "Training conversations:  (66927,)  Training labels:  (66927,)\n",
      "\n",
      "Testing conversations:  (155128,)  Testing labels:  (155128,)\n",
      "\n"
     ]
    }
   ],
   "source": [
    "# Loading training data\n",
    "PATH = '../../Data/train.csv' \n",
    "df  = pd.read_csv(PATH,encoding='utf-8',header=None)\n",
    "Xss_train = df[0]\n",
    "Xss_time_train = df[1] # This value is useless in this method\n",
    "Ys_train = df[2]\n",
    "Xss_train_original = Xss_train # This value is used later\n",
    "Ys_train_original = Ys_train # This value is used later\n",
    "print(\"Training conversations: \",Xss_train.shape,\" Training labels: \",Ys_train.shape)\n",
    "print()\n",
    "\n",
    "#############################################################\n",
    "\n",
    "# Loading training data\n",
    "PATH = '../../Data/test.csv'\n",
    "df  = pd.read_csv(PATH,encoding='utf-8',header=None)\n",
    "Xss_test = df[0]\n",
    "Xss_time_test = df[1]# This value is useless in this method\n",
    "Ys_test = df[2]\n",
    "Xss_test_original = Xss_test # This value is used later\n",
    "Ys_test_original = Ys_test # This value is used later\n",
    "print(\"Testing conversations: \",Xss_test.shape,\" Testing labels: \",Ys_test.shape)\n",
    "print()"
   ]
  },
  {
   "cell_type": "markdown",
   "metadata": {},
   "source": [
    "# 1) Creating TVT word embeddings and preservingÇ VOCABULARY\n",
    "## TVT aumengting Positive concepts based on the augmented Train data"
   ]
  },
  {
   "cell_type": "code",
   "execution_count": 4,
   "metadata": {},
   "outputs": [],
   "source": [
    "def creating_concepts_minority_class(documents,retains,f,label_init):\n",
    "    \n",
    "    \"\"\"\n",
    "    Arg:\n",
    "        f :TVT parameter; pick the f first percentages of text ; if f= 4; chunks :1,2,3 and 4 to calculated the concepts\n",
    "        label_init : we also create new labels, and they are: 0 belongs to non-groomer ; 1 to groomer\n",
    "    \"\"\"\n",
    "\n",
    "    info_documents = []\n",
    "    \n",
    "    # Tokenize every single document and saving them in a matrix, we save the size of the document too.\n",
    "    for document in tqdm(documents):\n",
    "        document_tokenize = nltk.word_tokenize(document)\n",
    "        document_size = len(document_tokenize)\n",
    "        info_documents.append([document_size,document_tokenize])\n",
    "\n",
    "    # Creating a set of documents, each of then with different percentages (%)\n",
    "    final_documents_groomers = [] # In this case, we only care about the Positive class\n",
    "    final_documents_groomers_labels = []\n",
    "    retains = retains[:f]\n",
    "    print(\"Were picked f: \",f,\" chunks: \",retains)\n",
    "    for percent in retains:\n",
    "        \n",
    "        print(\"---------------------------------------- \",percent,\" ---------------------------------------------\")\n",
    "        reduce_documents = []\n",
    "        if retains != 1:\n",
    "            # Iteraits each document and take only a percentage (%) of information\n",
    "            for element in info_documents:\n",
    "                document_size = element[0]\n",
    "                document_tokenize = element[1]\n",
    "                num_terms = round(document_size * percent)\n",
    "                if percent != (0.1):\n",
    "                    num_terms_prev = round(document_size * (percent-0.1)) # 0.1, represent one percent before\n",
    "                    reduce_doc = document_tokenize[num_terms_prev:num_terms]\n",
    "                else:\n",
    "                    reduce_doc = document_tokenize[:num_terms]\n",
    "                reduce_doc = ' '.join(reduce_doc)\n",
    "                reduce_doc = reduce_doc.lower()\n",
    "                reduce_documents.append(reduce_doc)\n",
    "        else:\n",
    "            print(\"100% of info\") # In this case, we take everything\n",
    "            for element in info_documents:\n",
    "                document_size = element[0]\n",
    "                document_tokenize = element[1]\n",
    "                #num_terms = round(document_size * percent)\n",
    "                reduce_doc = document_tokenize[:document_size] # In this case, we take everything\n",
    "                reduce_doc = ' '.join(reduce_doc)\n",
    "                reduce_doc = reduce_doc.lower()\n",
    "                reduce_documents.append(reduce_doc)\n",
    "        final_documents_groomers.append(reduce_documents)\n",
    "        final_documents_groomers_labels.append([label_init] * len(reduce_documents))\n",
    "        label_init += 1\n",
    "\n",
    "    # final_documents= [[all_docs(1%)][all_docs(2%)][all_docs(3%)][...][all_docs(100%)]]\n",
    "    return final_documents_groomers,final_documents_groomers_labels"
   ]
  },
  {
   "cell_type": "code",
   "execution_count": 5,
   "metadata": {},
   "outputs": [
    {
     "name": "stdout",
     "output_type": "stream",
     "text": [
      "groomer_train_documents:  2016   2016\n"
     ]
    }
   ],
   "source": [
    "groomer_train_documents = []\n",
    "groomer_documents = 0\n",
    "for document,label in zip(Xss_train,Ys_train):\n",
    "    if label == 1:\n",
    "        groomer_documents += 1\n",
    "        groomer_train_documents.append(document)\n",
    "print(\"groomer_train_documents: \",len(groomer_train_documents),\" \",groomer_documents)\n",
    "        "
   ]
  },
  {
   "cell_type": "code",
   "execution_count": 6,
   "metadata": {},
   "outputs": [
    {
     "name": "stderr",
     "output_type": "stream",
     "text": [
      "100%|██████████| 2016/2016 [00:02<00:00, 785.48it/s]\n"
     ]
    },
    {
     "name": "stdout",
     "output_type": "stream",
     "text": [
      "Were picked f:  6  chunks:  [0.1, 0.2, 0.3, 0.4, 0.5, 0.6]\n",
      "----------------------------------------  0.1  ---------------------------------------------\n",
      "----------------------------------------  0.2  ---------------------------------------------\n",
      "----------------------------------------  0.3  ---------------------------------------------\n",
      "----------------------------------------  0.4  ---------------------------------------------\n",
      "----------------------------------------  0.5  ---------------------------------------------\n",
      "----------------------------------------  0.6  ---------------------------------------------\n",
      "X_train_concepts:  6  X_train_concepts_labels:  6\n",
      "Concep 1:  hey ! ! hi ! how are you feeling ? a little better what are u doing ? i was just listening to some music i have to go to bed soon i have school tomorrow yea i thought u did i just woke and checked to see if u came on and ur here ! ! : -*  Label:  2\n",
      "**************************************************\n",
      "Concep 2:  : -* so what did u do today ? did chores sounds like fun lol not lol what did you do ? washed some cloths and started feeling bad nd layed down and fell alseep for 6 hours lol wow lol long nap yea just a little did you think about me today ? yes sweetie i think about  Label:  3\n",
      "**************************************************\n",
      "Concep 3:  u everyday ! ! : d is ur mom alseep ? no she is in her room but not asleep oh ic lol im yawning you are probably wide awake lol yea a little lol : d cory ... ? i wan na see u do u think that is bad ? no i dont think it is bad  Label:  4\n",
      "**************************************************\n",
      "Concep 4:  why ? because i do not for sex or anything like that i just wan na see u i feel if i dont then i might lose u or something i know that sounds stupid you wont lose me : d mom and her bf go out of town every month for a few days maybe the next time  Label:  5\n",
      "**************************************************\n"
     ]
    }
   ],
   "source": [
    "f = 6\n",
    "retains = [0.1,0.2,0.3,0.4,0.5,0.6,0.7,0.8,0.9,1]\n",
    "X_train_concepts,X_train_concepts_labels = creating_concepts_minority_class(groomer_train_documents,retains,f,2)\n",
    "print(\"X_train_concepts: \",len(X_train_concepts),\" X_train_concepts_labels: \",len(X_train_concepts_labels))\n",
    "print(\"Concep 1: \",X_train_concepts[0][0], \" Label: \",X_train_concepts_labels[0][0])\n",
    "print(\"*\"*50)\n",
    "print(\"Concep 2: \",X_train_concepts[1][0], \" Label: \",X_train_concepts_labels[1][0])\n",
    "print(\"*\"*50)\n",
    "print(\"Concep 3: \",X_train_concepts[2][0], \" Label: \",X_train_concepts_labels[2][0])\n",
    "print(\"*\"*50)\n",
    "print(\"Concep 4: \",X_train_concepts[3][0], \" Label: \",X_train_concepts_labels[3][0])\n",
    "print(\"*\"*50)"
   ]
  },
  {
   "cell_type": "markdown",
   "metadata": {},
   "source": [
    "# Augmenting Training set with concepts\n"
   ]
  },
  {
   "cell_type": "code",
   "execution_count": 7,
   "metadata": {},
   "outputs": [
    {
     "name": "stdout",
     "output_type": "stream",
     "text": [
      "Before Augmentation:  66927   66927\n",
      "After Augmentation:  79023   79023  Label types:  {0, 1, 2, 3, 4, 5, 6, 7}\n"
     ]
    }
   ],
   "source": [
    "Xss_train = Xss_train.tolist()\n",
    "Ys_train = Ys_train.tolist()\n",
    "print(\"Before Augmentation: \",len(Xss_train),\" \",len(Ys_train))\n",
    "for concept,labels in zip(X_train_concepts,X_train_concepts_labels):\n",
    "    Xss_train += concept\n",
    "    Ys_train += labels\n",
    "print(\"After Augmentation: \",len(Xss_train),\" \",len(Ys_train),\" Label types: \",set(Ys_train))"
   ]
  },
  {
   "cell_type": "code",
   "execution_count": 8,
   "metadata": {},
   "outputs": [
    {
     "name": "stdout",
     "output_type": "stream",
     "text": [
      "79023\n",
      "155128\n"
     ]
    }
   ],
   "source": [
    "# Processing the training 100% of the documents\n",
    "clean_tr_txt = [] \n",
    "for document in Xss_train:\n",
    "    new_document = [document.lower()]\n",
    "    clean_tr_txt += new_document\n",
    "tr_txt = clean_tr_txt\n",
    "print(len(tr_txt))\n",
    "\n",
    "# Processing the testing 100% of the documents\n",
    "clean_te_txt = [] \n",
    "for document in Xss_test:\n",
    "    new_document = [document.lower()]\n",
    "    clean_te_txt += new_document\n",
    "te_txt = clean_te_txt\n",
    "print(len(te_txt)) # te_txt contine 100% de la info\n"
   ]
  },
  {
   "cell_type": "markdown",
   "metadata": {},
   "source": [
    "# 2) We preserve the vocabulary"
   ]
  },
  {
   "cell_type": "code",
   "execution_count": 9,
   "metadata": {},
   "outputs": [
    {
     "name": "stdout",
     "output_type": "stream",
     "text": [
      "Vocabulary :  14934\n",
      "TR:  (79023, 14934)\n",
      "TR[0,:10]:  [0 0 0 0 0 0 0 0 0 0 0 0 0 0 0 0 0 0 0 0 0 0 0 0 0 0 0 0 0 0 0 0 0 0 0 0 0\n",
      " 0 0 0 0 0 0 0 0 0 0 0 0 0 0 0 0 0 0 0 0 0 0 0 0 0 0 0 0 0 0 0 0 0 0 0 0 0\n",
      " 0 0 0 0 0 0 0 0 0 0 0 0 0 0 0 0 0 0 0 0 0 0 0 0 0 0]\n"
     ]
    },
    {
     "data": {
      "text/plain": [
       "0"
      ]
     },
     "execution_count": 9,
     "metadata": {},
     "output_type": "execute_result"
    }
   ],
   "source": [
    "# Creating TR with sklearn \n",
    "from sklearn.feature_extraction.text import CountVectorizer\n",
    "import gc\n",
    "vectorizer = CountVectorizer(min_df = 10) # Ya remueve punctuacion y hace lower() por default\n",
    "X = vectorizer.fit_transform(tr_txt)\n",
    "print(\"Vocabulary : \",len(vectorizer.get_feature_names()))\n",
    "vocabulary = vectorizer.get_feature_names()\n",
    "TR = X.toarray()\n",
    "print(\"TR: \", TR.shape)\n",
    "print(\"TR[0,:10]: \", str(TR[0,:100])) # Pareciera que no hay nada, pero si imprimes != 0, hay muchos :)\n",
    "\n",
    "\n",
    "\"\"\"X2 = vectorizer.transform(te_txt)\n",
    "TE = X2.toarray()\n",
    "print(\"TE: \", TE.shape)\n",
    "\n",
    "saving_pkl(vectorizer,\"Savings/vectorizer.pkl\")\"\"\"\n",
    "\n",
    "del vectorizer,X#,X2\n",
    "gc.collect()"
   ]
  },
  {
   "cell_type": "code",
   "execution_count": 10,
   "metadata": {},
   "outputs": [],
   "source": [
    "def PSR_weigth_schema_tvt(documents,labels,vocabulary,n_classes):\n",
    "    '''\n",
    "    Args:\n",
    "        documents : ##Train## documents tokenized\n",
    "        labels : groomer non-groomer\n",
    "        vocabulary : list of unique tokens\n",
    "    Outputs:\n",
    "        PSR --> words_weights : dic[token] = [NG,G]\n",
    "    '''\n",
    "    number_classes = n_classes   \n",
    "    \n",
    "    # Inicialize the w_tokens dictionary\n",
    "    words_weights = dict() \n",
    "    for v in vocabulary:\n",
    "        words_weights[v] =  [0] * number_classes\n",
    "        \n",
    "    print(\"len(vocabulary): \",len(vocabulary),\" len(words_weights): \",len(words_weights))\n",
    "        \n",
    "    N = len(documents)\n",
    "    \n",
    "    # Calculating frequency (TF) for each token for each class\n",
    "    for label,document in tqdm(zip(labels,documents),total=len(labels)):\n",
    "        document = document.split()\n",
    "        # Group each unique token and its frequency Exemp: counter[hi] = 45\n",
    "        counter = Counter(document)\n",
    "        for token in np.unique(document):\n",
    "            if token not in vocabulary:\n",
    "                continue      \n",
    "            '''\n",
    "            Normal tf\n",
    "            '''\n",
    "            tf = counter[token]\n",
    "            w_token = np.log2((1+ (tf / len(document))))\n",
    "            words_weights[token][label] += w_token \n",
    "\n",
    "\n",
    "    df = pd.DataFrame.from_dict(words_weights,orient = 'index')\n",
    "    X = df.values\n",
    "    # Normalization 1)\n",
    "    X_std = X / (X.sum(axis=0,keepdims=True)) \n",
    "    # Normalization 2)\n",
    "    X_std = X_std / (X_std.sum(axis=1,keepdims=True)) \n",
    "    id = 0\n",
    "    for key,values in words_weights.items():\n",
    "        words_weights[key] = np.nan_to_num(X_std[id])\n",
    "        id += 1\n",
    " \n",
    "    return words_weights\n",
    "\n"
   ]
  },
  {
   "cell_type": "code",
   "execution_count": 11,
   "metadata": {
    "scrolled": true
   },
   "outputs": [],
   "source": [
    "#words_weights_TVT = PSR_weigth_schema_tvt(tr_txt,Ys_train,vocabulary,f+2)\n",
    "#saving_pkl(words_weights_TVT,\"Savings/words_weights_tvt\")\n",
    "words_weights_TVT = loading_pkl(\"Savings/words_weights_tvt\")"
   ]
  },
  {
   "cell_type": "markdown",
   "metadata": {},
   "source": [
    "# Creating our embbedings with TVT + PSR"
   ]
  },
  {
   "cell_type": "code",
   "execution_count": 12,
   "metadata": {},
   "outputs": [
    {
     "name": "stdout",
     "output_type": "stream",
     "text": [
      "(14934, 8)   (79023, 14934)\n",
      "[0. 0. 0. 0. 0. 0. 0. 0.]\n"
     ]
    }
   ],
   "source": [
    "voc_size = len(vocabulary)\n",
    "DTR = np.zeros((voc_size, 2+f), dtype=np.float)\n",
    "for e in range(0,voc_size):\n",
    "    DTR[e] = words_weights_TVT[vocabulary[e]]\n",
    "print(DTR.shape,\" \",TR.shape)\n",
    "print(DTR[40])"
   ]
  },
  {
   "cell_type": "markdown",
   "metadata": {},
   "source": [
    "# After we created the TVT embbedings with help of the augmented data set; We come back to the original training set and create TR with the previosly calculated vocabulary"
   ]
  },
  {
   "cell_type": "code",
   "execution_count": 13,
   "metadata": {},
   "outputs": [
    {
     "name": "stdout",
     "output_type": "stream",
     "text": [
      "Vocabulary saved:  14934\n",
      "66927\n",
      "Vocabulary :  14934\n",
      "TR:  (66927, 14934)\n",
      "TR[0,:10]:  [0 0 0 0 0 0 0 0 0 0 0 0 0 0 0 0 0 0 0 0 0 0 0 0 0 0 0 0 0 0 0 0 0 0 0 0 0\n",
      " 0 0 0 0 0 0 0 0 0 0 0 0 0 0 0 0 0 0 0 0 0 0 0 0 0 0 0 0 0 0 0 0 0 0 0 0 0\n",
      " 0 0 0 0 0 0 0 0 0 0 0 0 0 0 0 0 0 0 0 0 0 0 0 0 0 0]\n",
      "TE:  (155128, 14934)\n"
     ]
    },
    {
     "data": {
      "text/plain": [
       "0"
      ]
     },
     "execution_count": 13,
     "metadata": {},
     "output_type": "execute_result"
    }
   ],
   "source": [
    "# Processing the 100% of the documents\n",
    "print(\"Vocabulary saved: \",len(vocabulary))\n",
    "\n",
    "Xss_train = Xss_train_original \n",
    "Ys_train = Ys_train_original \n",
    "\n",
    "# Processing the training 100% of the documents\n",
    "clean_tr_txt = [] \n",
    "for document in Xss_train:\n",
    "    new_document = [document.lower()]\n",
    "    clean_tr_txt += new_document\n",
    "tr_txt = clean_tr_txt\n",
    "print(len(tr_txt))\n",
    "\n",
    "vectorizer = CountVectorizer(vocabulary=vocabulary) \n",
    "X = vectorizer.fit_transform(tr_txt)\n",
    "print(\"Vocabulary : \",len(vectorizer.get_feature_names()))\n",
    "vocabulary = vectorizer.get_feature_names()\n",
    "TR = X.toarray()\n",
    "print(\"TR: \", TR.shape)\n",
    "print(\"TR[0,:10]: \", str(TR[0,:100]))\n",
    "\n",
    "\n",
    "X2 = vectorizer.transform(te_txt)\n",
    "TE = X2.toarray()\n",
    "print(\"TE: \", TE.shape)\n",
    "\n",
    "saving_pkl(vectorizer,\"Savings/vectorizer_tvt.pkl\")\n",
    "\n",
    "del vectorizer,X,X2\n",
    "gc.collect()\n",
    "\n"
   ]
  },
  {
   "cell_type": "code",
   "execution_count": 14,
   "metadata": {},
   "outputs": [
    {
     "name": "stdout",
     "output_type": "stream",
     "text": [
      "(66927, 14934)   (14934, 8)\n"
     ]
    }
   ],
   "source": [
    "print(TR.shape,\" \",DTR.shape)"
   ]
  },
  {
   "cell_type": "code",
   "execution_count": 15,
   "metadata": {},
   "outputs": [
    {
     "name": "stdout",
     "output_type": "stream",
     "text": [
      "142.14849829673767\n"
     ]
    }
   ],
   "source": [
    "start = time.time()\n",
    "def BoC(TR, DTR, codebook):\n",
    "    \n",
    "    code, dist = vq.vq(DTR, codebook)\n",
    "    new_word_metaword = {}\n",
    "    for index in range(0,TR.shape[1]): \n",
    "        new_word_metaword[index] = code[index] \n",
    "\n",
    "    TR_DDR = []\n",
    "    for tr_doc in TR:\n",
    "        doc = []\n",
    "        for w in np.nonzero(tr_doc)[0]:\n",
    "            for occurrence in range(int(tr_doc[w])):\n",
    "                doc += [new_word_metaword[w]]\n",
    "        histogram_of_metawords, bin_edges = histogram(doc, bins=range(len(codebook) + 1))\n",
    "        TR_DDR += [histogram_of_metawords]\n",
    "\n",
    "    TR_DDR = np.asarray(TR_DDR)\n",
    "    TR_DDR=preprocessing.normalize(TR_DDR, norm='l1')\n",
    "    return TR_DDR\n",
    "\n",
    "R = [10, 50, 100, 500,1000]\n",
    "codebooks = []\n",
    "for r in R:\n",
    "    clusterer = KMeans(n_clusters=r, n_jobs=4, random_state=1)\n",
    "    clusterer.fit(DTR)\n",
    "    codebook = clusterer.cluster_centers_\n",
    "    codebooks += [codebook]\n",
    "    \n",
    "TR_DDR = BoC(TR, DTR, codebooks[0])\n",
    "for i in range(1, len(codebooks)):\n",
    "    TR_DDR = np.concatenate((TR_DDR, BoC(TR, DTR, codebooks[i])), axis=1)\n",
    "\n",
    "end = time.time()\n",
    "print(end - start)"
   ]
  },
  {
   "cell_type": "code",
   "execution_count": 16,
   "metadata": {},
   "outputs": [
    {
     "name": "stdout",
     "output_type": "stream",
     "text": [
      "(66927, 1660)\n",
      "[0.14285714 0.14285714 0.         0.28571429 0.         0.\n",
      " 0.42857143 0.         0.         0.        ]\n"
     ]
    }
   ],
   "source": [
    "print(TR_DDR.shape)\n",
    "print(TR_DDR[565][:10])"
   ]
  },
  {
   "cell_type": "markdown",
   "metadata": {},
   "source": [
    "# Testing set"
   ]
  },
  {
   "cell_type": "code",
   "execution_count": 17,
   "metadata": {
    "scrolled": true
   },
   "outputs": [
    {
     "name": "stdout",
     "output_type": "stream",
     "text": [
      "(155128, 1660)\n",
      "[0.08433735 0.         0.00860585 0.59552496 0.00688468 0.01032702\n",
      " 0.2444062  0.01376936 0.03614458 0.        ]\n"
     ]
    }
   ],
   "source": [
    "TE_DDR = BoC(TE, DTR, codebooks[0])\n",
    "for i in range(1, len(codebooks)):\n",
    "    TE_DDR = np.concatenate((TE_DDR, BoC(TE, DTR, codebooks[i])), axis=1)\n",
    "\n",
    "print(TE_DDR.shape)\n",
    "print(TE_DDR[0][:10]) "
   ]
  },
  {
   "cell_type": "markdown",
   "metadata": {},
   "source": [
    "# Training the SVM classifier"
   ]
  },
  {
   "cell_type": "code",
   "execution_count": 18,
   "metadata": {},
   "outputs": [
    {
     "name": "stdout",
     "output_type": "stream",
     "text": [
      "(66927,)   (155128,)\n",
      "F1 mesure with 100% of the information:  0.4053\n"
     ]
    }
   ],
   "source": [
    "# Transform labels into arrays\n",
    "Y_train = np.asarray(Ys_train)\n",
    "Y_test = np.asarray(Ys_test)\n",
    "print(Y_train.shape,\" \",Y_test.shape)\n",
    "\n",
    "# Training the classfier\n",
    "svr = svm.LinearSVC(class_weight='balanced')\n",
    "grid=svr\n",
    "grid.fit(TR_DDR, Y_train) \n",
    "\n",
    "# Obtaining the predictions\n",
    "y_pred = grid.predict(TE_DDR)\n",
    "\n",
    "# Performing F1 mesure of the positive (groomer) class\n",
    "f1_g = np.round(metrics.f1_score(Y_test,y_pred,average='binary',pos_label=1),4)\n",
    "print(\"F1 mesure with 100% of the information: \",f1_g) "
   ]
  },
  {
   "cell_type": "code",
   "execution_count": 19,
   "metadata": {},
   "outputs": [
    {
     "data": {
      "text/plain": [
       "LinearSVC(C=1.0, class_weight='balanced', dual=True, fit_intercept=True,\n",
       "          intercept_scaling=1, loss='squared_hinge', max_iter=1000,\n",
       "          multi_class='ovr', penalty='l2', random_state=None, tol=0.0001,\n",
       "          verbose=0)"
      ]
     },
     "execution_count": 19,
     "metadata": {},
     "output_type": "execute_result"
    }
   ],
   "source": [
    "model = grid\n",
    "model"
   ]
  },
  {
   "cell_type": "markdown",
   "metadata": {},
   "source": [
    "# Online stage\n",
    "## Simulating predictions with different percentage of the conversations"
   ]
  },
  {
   "cell_type": "code",
   "execution_count": 20,
   "metadata": {},
   "outputs": [],
   "source": [
    "def get_percentage_document(documents,retains):\n",
    "\n",
    "    info_documents = []\n",
    "    \n",
    "    # Tokenize every single document and saving them in a matrix, we save the size of the doc to.\n",
    "    start = time.time()\n",
    "    for document in tqdm(documents):\n",
    "        document_tokenize = nltk.word_tokenize(document)\n",
    "        document_size = len(document_tokenize)\n",
    "        info_documents.append([document_size,document_tokenize])\n",
    "    end = time.time()\n",
    "    print('Time: ',end-start)\n",
    "    # Creating a set of documents, each of then with different percentages (%)\n",
    "    final_documents = []\n",
    "    for percent in retains:\n",
    "        \n",
    "        print(\"---------------------------------------- \",percent,\" ---------------------------------------------\")\n",
    "        reduce_documents = []\n",
    "        if retains != 1:\n",
    "            # Iteraits each doc and take only (%)\n",
    "            for element in info_documents:\n",
    "                document_size = element[0]\n",
    "                document_tokenize = element[1]\n",
    "                num_terms = round(document_size * percent)\n",
    "                reduce_doc = document_tokenize[:num_terms]\n",
    "                reduce_doc = ' '.join(reduce_doc)\n",
    "                reduce_doc = reduce_doc.lower()\n",
    "                reduce_documents.append(reduce_doc)\n",
    "        else:\n",
    "            print(\"100% of info\") # In this case, we take everything\n",
    "            for element in info_documents:\n",
    "                document_size = element[0]\n",
    "                document_tokenize = element[1]\n",
    "                #num_terms = round(document_size * percent)\n",
    "                reduce_doc = document_tokenize[:document_size] # In this case, we take everything\n",
    "                reduce_doc = ' '.join(reduce_doc)\n",
    "                reduce_doc = reduce_doc.lower()\n",
    "                reduce_documents.append(reduce_doc)\n",
    "        final_documents.append(reduce_documents)\n",
    "\n",
    "    # final_documents= [[all_docs(1%)][all_docs(2%)][all_docs(3%)][...][all_docs(100%)]]\n",
    "    return final_documents"
   ]
  },
  {
   "cell_type": "code",
   "execution_count": 21,
   "metadata": {},
   "outputs": [
    {
     "name": "stdout",
     "output_type": "stream",
     "text": [
      "155128   155128\n"
     ]
    }
   ],
   "source": [
    "retains = [0.1,0.2,0.3,0.4,0.5,0.6,0.7,0.8,0.9,1]\n",
    "#final_documents = get_percentage_document(Xss_test,retains)\n",
    "#saving_pkl(final_documents,\"Savings/finalDocuments.pkl\")\n",
    "final_documents = loading_pkl(\"Savings/finalDocuments.pkl\")\n",
    "print(len(final_documents[0]),\" \",len(final_documents[9]))"
   ]
  },
  {
   "cell_type": "markdown",
   "metadata": {},
   "source": [
    "# Preprocessing each chunk of information"
   ]
  },
  {
   "cell_type": "code",
   "execution_count": 22,
   "metadata": {},
   "outputs": [
    {
     "name": "stdout",
     "output_type": "stream",
     "text": [
      "----------------------------------------  0.1  ---------------------------------------------\n",
      "TE:  (155128, 14934)\n",
      "TE_DDR:  (155128, 1660)\n",
      "----------------------------------------  0.2  ---------------------------------------------\n",
      "TE:  (155128, 14934)\n",
      "TE_DDR:  (155128, 1660)\n",
      "----------------------------------------  0.3  ---------------------------------------------\n",
      "TE:  (155128, 14934)\n",
      "TE_DDR:  (155128, 1660)\n",
      "----------------------------------------  0.4  ---------------------------------------------\n",
      "TE:  (155128, 14934)\n",
      "TE_DDR:  (155128, 1660)\n",
      "----------------------------------------  0.5  ---------------------------------------------\n",
      "TE:  (155128, 14934)\n",
      "TE_DDR:  (155128, 1660)\n",
      "----------------------------------------  0.6  ---------------------------------------------\n",
      "TE:  (155128, 14934)\n",
      "TE_DDR:  (155128, 1660)\n",
      "----------------------------------------  0.7  ---------------------------------------------\n",
      "TE:  (155128, 14934)\n",
      "TE_DDR:  (155128, 1660)\n",
      "----------------------------------------  0.8  ---------------------------------------------\n",
      "TE:  (155128, 14934)\n",
      "TE_DDR:  (155128, 1660)\n",
      "----------------------------------------  0.9  ---------------------------------------------\n",
      "TE:  (155128, 14934)\n",
      "TE_DDR:  (155128, 1660)\n",
      "----------------------------------------  1  ---------------------------------------------\n",
      "TE:  (155128, 14934)\n",
      "TE_DDR:  (155128, 1660)\n",
      "2560.026989221573\n",
      "10\n"
     ]
    }
   ],
   "source": [
    "start = time.time()\n",
    "TE_DDRs = []\n",
    "\n",
    "# Iterates over each chunk of text\n",
    "for te,percent in zip(final_documents,retains):\n",
    "    print(\"---------------------------------------- \",percent,\" ---------------------------------------------\")\n",
    "    vectorrizer_oficial = loading_pkl(\"Savings/vectorizer_tvt.pkl\")\n",
    "    X2 = vectorrizer_oficial.transform(te)\n",
    "    TE = X2.toarray()\n",
    "    print(\"TE: \", TE.shape)\n",
    "    del X2,vectorrizer_oficial\n",
    "    gc.collect()\n",
    "    TE_DDR = BoC(TE, DTR, codebooks[0])\n",
    "    for i in range(1, len(codebooks)):\n",
    "        TE_DDR = np.concatenate((TE_DDR, BoC(TE, DTR, codebooks[i])), axis=1)\n",
    "    #print(TE)\n",
    "    print(\"TE_DDR: \",TE_DDR.shape)\n",
    "    TE_DDRs += [TE_DDR]\n",
    "\n",
    "end = time.time()\n",
    "print(end - start)\n",
    "print(len(TE_DDRs))"
   ]
  },
  {
   "cell_type": "markdown",
   "metadata": {},
   "source": [
    "# Predictions with partial information"
   ]
  },
  {
   "cell_type": "code",
   "execution_count": 23,
   "metadata": {},
   "outputs": [
    {
     "name": "stdout",
     "output_type": "stream",
     "text": [
      "RESULTS PER CHUNK: \n",
      "CLASSIFICATION FOR CHUNK: 1\n",
      "F1 mesure with  10 % of the information available:  0.0935\n",
      "==================================================\n",
      "CLASSIFICATION FOR CHUNK: 2\n",
      "F1 mesure with  20 % of the information available:  0.13\n",
      "==================================================\n",
      "CLASSIFICATION FOR CHUNK: 3\n",
      "F1 mesure with  30 % of the information available:  0.1716\n",
      "==================================================\n",
      "CLASSIFICATION FOR CHUNK: 4\n",
      "F1 mesure with  40 % of the information available:  0.2101\n",
      "==================================================\n",
      "CLASSIFICATION FOR CHUNK: 5\n",
      "F1 mesure with  50 % of the information available:  0.2479\n",
      "==================================================\n",
      "CLASSIFICATION FOR CHUNK: 6\n",
      "F1 mesure with  60 % of the information available:  0.2834\n",
      "==================================================\n",
      "CLASSIFICATION FOR CHUNK: 7\n",
      "F1 mesure with  70 % of the information available:  0.3221\n",
      "==================================================\n",
      "CLASSIFICATION FOR CHUNK: 8\n",
      "F1 mesure with  80 % of the information available:  0.3487\n",
      "==================================================\n",
      "CLASSIFICATION FOR CHUNK: 9\n",
      "F1 mesure with  90 % of the information available:  0.3789\n",
      "==================================================\n",
      "CLASSIFICATION FOR CHUNK: 10\n",
      "F1 mesure with  100 % of the information available:  0.4058\n",
      "==================================================\n"
     ]
    }
   ],
   "source": [
    "retains = [None,10,20,30,40,50,60,70,80,90,100]\n",
    "svr = svm.LinearSVC(class_weight='balanced')\n",
    "grid=svr\n",
    "grid.fit(TR_DDR, Y_train) \n",
    "print(\"RESULTS PER CHUNK: \")\n",
    "hist_f=[]\n",
    "\n",
    "i=1\n",
    "for TE_DDR in TE_DDRs:\n",
    "    \n",
    "    print(\"CLASSIFICATION FOR CHUNK:\", i)\n",
    "    y_pred = grid.predict(TE_DDR)\n",
    "\n",
    "    f1_g = np.round(metrics.f1_score(Y_test,y_pred,average='binary',pos_label=1),4)\n",
    "    print(\"F1 mesure with \",retains[i], \"% of the information available: \",f1_g)\n",
    "    print(\"=\"*50)\n",
    "\n",
    "    hist_f.append(f1_g)\n",
    "    i += 1\n"
   ]
  },
  {
   "cell_type": "markdown",
   "metadata": {},
   "source": [
    "# Testing with the SGD testing corpus"
   ]
  },
  {
   "cell_type": "code",
   "execution_count": 24,
   "metadata": {},
   "outputs": [
    {
     "data": {
      "image/png": "[encoded data removed]",
      "text/plain": [
       "<Figure size 1000x400 with 1 Axes>"
      ]
     },
     "metadata": {},
     "output_type": "display_data"
    }
   ],
   "source": [
    "results = hist_f.copy()\n",
    "plotting(results,\"#7E8071\",\">\",\"MulR-TVT\")"
   ]
  },
  {
   "cell_type": "code",
   "execution_count": 25,
   "metadata": {},
   "outputs": [],
   "source": [
    "def pre_processing(doc_partial):\n",
    "    new_doc = list()\n",
    "    \n",
    "    for doc in doc_partial:\n",
    "        new_doc.append(doc.lower())            \n",
    "    return new_doc"
   ]
  },
  {
   "cell_type": "code",
   "execution_count": 26,
   "metadata": {},
   "outputs": [],
   "source": [
    "def calculating_preds(PATH,num_chunks):\n",
    "    \n",
    "    print(\"Extracting conversations\")\n",
    "    data_set = loading_pkl(PATH) \n",
    "    matrix_text,labels,start_time_conversations,number_participants,matrix = data_set\n",
    "    print(\"%text: \",(matrix_text.shape))\n",
    "    print(\"labels: \",len(labels),labels[0])\n",
    "    print(\"start_time_conversations: \",len(start_time_conversations),start_time_conversations[0])\n",
    "    print(\"# participants: \",(number_participants.shape),number_participants[0][0])\n",
    "    print(\"%int matrix: \",(matrix.shape),matrix[0][0])\n",
    "    print(\"+\"*40)\n",
    "    \n",
    "    \n",
    "    probs = list()\n",
    "    TE_DDRs = []\n",
    "    retains = [0.1,0.2,0.3,0.4,0.5,0.6,0.7,0.8,0.9,1]\n",
    "        \n",
    "    for  chunk in range(num_chunks):\n",
    "        \n",
    "        doc_partial = matrix_text[:,chunk]\n",
    "        Y_partial = labels\n",
    "        groomer_before = sum([1 for i in Y_partial if i ==1])\n",
    "        \n",
    "        '''Preprocessing'''\n",
    "        doc_partial = pre_processing(doc_partial)\n",
    "        Y_partial = np.asarray(Y_partial)\n",
    "        groomer_after = sum([1 for i in Y_partial if i ==1])\n",
    "        \n",
    "        \n",
    "        vectorrizer_oficial = loading_pkl(\"Savings/vectorizer_tvt.pkl\")\n",
    "        X2 = vectorrizer_oficial.transform(doc_partial)\n",
    "        TE = X2.toarray()\n",
    "        print(\"TE: \", TE.shape)\n",
    "        del X2,vectorrizer_oficial\n",
    "        gc.collect()\n",
    "        TE_DDR = BoC(TE, DTR, codebooks[0])\n",
    "        for i in range(1, len(codebooks)):\n",
    "            TE_DDR = np.concatenate((TE_DDR, BoC(TE, DTR, codebooks[i])), axis=1)\n",
    "        print(\"TE_DDR: \",TE_DDR.shape)\n",
    "        TE_DDRs += [TE_DDR]\n",
    "        print(\"*\"*20)\n",
    "        \n",
    "    retains = [None,10,20,30,40,50,60,70,80,90,100]\n",
    "    print(\"RESULTS PER CHUNK: \")\n",
    "    hist_f=[]\n",
    "\n",
    "    i=1\n",
    "    for TE_DDR in TE_DDRs:\n",
    "\n",
    "        print(\"CLASSIFICATION FOR CHUNK:\", i)\n",
    "        y_pred = model.predict(TE_DDR)\n",
    "\n",
    "        f1_g = np.round(metrics.f1_score(labels,y_pred,average='binary',pos_label=1),4)\n",
    "        print(\"F1 mesure with \",retains[i], \"% of the information available: \",f1_g)\n",
    "        print(\"=\"*50)\n",
    "\n",
    "        hist_f.append(f1_g)\n",
    "        i += 1\n",
    "\n",
    "    print(hist_f)\n",
    "    results = hist_f.copy()\n",
    "    plotting(results,\"#7E8071\",\"<\",\"MulR-TVT\")\n",
    "    return TE_DDRs,labels"
   ]
  },
  {
   "cell_type": "markdown",
   "metadata": {},
   "source": [
    "# Testing with the PJZC dataset"
   ]
  },
  {
   "cell_type": "code",
   "execution_count": 27,
   "metadata": {},
   "outputs": [
    {
     "name": "stdout",
     "output_type": "stream",
     "text": [
      "Extracting conversations\n",
      "%text:  (21070, 10)\n",
      "labels:  21070 0\n",
      "start_time_conversations:  21070 18:10\n",
      "# participants:  (21070, 10) [1]\n",
      "%int matrix:  (21070, 10) [1. 0. 0. 0. 0.]\n",
      "++++++++++++++++++++++++++++++++++++++++\n",
      "TE:  (21070, 14934)\n",
      "TE_DDR:  (21070, 1660)\n",
      "********************\n",
      "TE:  (21070, 14934)\n",
      "TE_DDR:  (21070, 1660)\n",
      "********************\n",
      "TE:  (21070, 14934)\n",
      "TE_DDR:  (21070, 1660)\n",
      "********************\n",
      "TE:  (21070, 14934)\n",
      "TE_DDR:  (21070, 1660)\n",
      "********************\n",
      "TE:  (21070, 14934)\n",
      "TE_DDR:  (21070, 1660)\n",
      "********************\n",
      "TE:  (21070, 14934)\n",
      "TE_DDR:  (21070, 1660)\n",
      "********************\n",
      "TE:  (21070, 14934)\n",
      "TE_DDR:  (21070, 1660)\n",
      "********************\n",
      "TE:  (21070, 14934)\n",
      "TE_DDR:  (21070, 1660)\n",
      "********************\n",
      "TE:  (21070, 14934)\n",
      "TE_DDR:  (21070, 1660)\n",
      "********************\n",
      "TE:  (21070, 14934)\n",
      "TE_DDR:  (21070, 1660)\n",
      "********************\n",
      "RESULTS PER CHUNK: \n",
      "CLASSIFICATION FOR CHUNK: 1\n",
      "F1 mesure with  10 % of the information available:  0.2578\n",
      "==================================================\n",
      "CLASSIFICATION FOR CHUNK: 2\n",
      "F1 mesure with  20 % of the information available:  0.2878\n",
      "==================================================\n",
      "CLASSIFICATION FOR CHUNK: 3\n",
      "F1 mesure with  30 % of the information available:  0.304\n",
      "==================================================\n",
      "CLASSIFICATION FOR CHUNK: 4\n",
      "F1 mesure with  40 % of the information available:  0.3195\n",
      "==================================================\n",
      "CLASSIFICATION FOR CHUNK: 5\n",
      "F1 mesure with  50 % of the information available:  0.3286\n",
      "==================================================\n",
      "CLASSIFICATION FOR CHUNK: 6\n",
      "F1 mesure with  60 % of the information available:  0.3377\n",
      "==================================================\n",
      "CLASSIFICATION FOR CHUNK: 7\n",
      "F1 mesure with  70 % of the information available:  0.3445\n",
      "==================================================\n",
      "CLASSIFICATION FOR CHUNK: 8\n",
      "F1 mesure with  80 % of the information available:  0.3485\n",
      "==================================================\n",
      "CLASSIFICATION FOR CHUNK: 9\n",
      "F1 mesure with  90 % of the information available:  0.3512\n",
      "==================================================\n",
      "CLASSIFICATION FOR CHUNK: 10\n",
      "F1 mesure with  100 % of the information available:  0.3517\n",
      "==================================================\n",
      "[0.2578, 0.2878, 0.304, 0.3195, 0.3286, 0.3377, 0.3445, 0.3485, 0.3512, 0.3517]\n"
     ]
    },
    {
     "data": {
      "image/png": "[encoded data removed]",
      "text/plain": [
       "<Figure size 1000x400 with 1 Axes>"
      ]
     },
     "metadata": {},
     "output_type": "display_data"
    }
   ],
   "source": [
    "PATH = \"../../Data/PJZC.pkl\"\n",
    "TE_DDRs,labels = calculating_preds(PATH,10)"
   ]
  },
  {
   "cell_type": "markdown",
   "metadata": {},
   "source": [
    "# Testing with the PJZ dataset"
   ]
  },
  {
   "cell_type": "code",
   "execution_count": 28,
   "metadata": {},
   "outputs": [
    {
     "name": "stdout",
     "output_type": "stream",
     "text": [
      "Extracting conversations\n",
      "%text:  (13822, 10)\n",
      "labels:  13822 0\n",
      "start_time_conversations:  13822 05:16\n",
      "# participants:  (13822, 10) [2]\n",
      "%int matrix:  (13822, 10) [0.625 0.375 0.    0.    0.   ]\n",
      "++++++++++++++++++++++++++++++++++++++++\n",
      "TE:  (13822, 14934)\n",
      "TE_DDR:  (13822, 1660)\n",
      "********************\n",
      "TE:  (13822, 14934)\n",
      "TE_DDR:  (13822, 1660)\n",
      "********************\n",
      "TE:  (13822, 14934)\n",
      "TE_DDR:  (13822, 1660)\n",
      "********************\n",
      "TE:  (13822, 14934)\n",
      "TE_DDR:  (13822, 1660)\n",
      "********************\n",
      "TE:  (13822, 14934)\n",
      "TE_DDR:  (13822, 1660)\n",
      "********************\n",
      "TE:  (13822, 14934)\n",
      "TE_DDR:  (13822, 1660)\n",
      "********************\n",
      "TE:  (13822, 14934)\n",
      "TE_DDR:  (13822, 1660)\n",
      "********************\n",
      "TE:  (13822, 14934)\n",
      "TE_DDR:  (13822, 1660)\n",
      "********************\n",
      "TE:  (13822, 14934)\n",
      "TE_DDR:  (13822, 1660)\n",
      "********************\n",
      "TE:  (13822, 14934)\n",
      "TE_DDR:  (13822, 1660)\n",
      "********************\n",
      "RESULTS PER CHUNK: \n",
      "CLASSIFICATION FOR CHUNK: 1\n",
      "F1 mesure with  10 % of the information available:  0.5694\n",
      "==================================================\n",
      "CLASSIFICATION FOR CHUNK: 2\n",
      "F1 mesure with  20 % of the information available:  0.6261\n",
      "==================================================\n",
      "CLASSIFICATION FOR CHUNK: 3\n",
      "F1 mesure with  30 % of the information available:  0.6565\n",
      "==================================================\n",
      "CLASSIFICATION FOR CHUNK: 4\n",
      "F1 mesure with  40 % of the information available:  0.6781\n",
      "==================================================\n",
      "CLASSIFICATION FOR CHUNK: 5\n",
      "F1 mesure with  50 % of the information available:  0.6888\n",
      "==================================================\n",
      "CLASSIFICATION FOR CHUNK: 6\n",
      "F1 mesure with  60 % of the information available:  0.7008\n",
      "==================================================\n",
      "CLASSIFICATION FOR CHUNK: 7\n",
      "F1 mesure with  70 % of the information available:  0.7069\n",
      "==================================================\n",
      "CLASSIFICATION FOR CHUNK: 8\n",
      "F1 mesure with  80 % of the information available:  0.7111\n",
      "==================================================\n",
      "CLASSIFICATION FOR CHUNK: 9\n",
      "F1 mesure with  90 % of the information available:  0.7132\n",
      "==================================================\n",
      "CLASSIFICATION FOR CHUNK: 10\n",
      "F1 mesure with  100 % of the information available:  0.7142\n",
      "==================================================\n",
      "[0.5694, 0.6261, 0.6565, 0.6781, 0.6888, 0.7008, 0.7069, 0.7111, 0.7132, 0.7142]\n"
     ]
    },
    {
     "data": {
      "image/png": "[encoded data removed]",
      "text/plain": [
       "<Figure size 1000x400 with 1 Axes>"
      ]
     },
     "metadata": {},
     "output_type": "display_data"
    }
   ],
   "source": [
    "PATH = \"../../Data/PJZ.pkl\"\n",
    "TE_DDRs,labels = calculating_preds(PATH,10)"
   ]
  },
  {
   "cell_type": "code",
   "execution_count": null,
   "metadata": {},
   "outputs": [],
   "source": []
  }
 ],
 "metadata": {
  "kernelspec": {
   "display_name": "Python 3",
   "language": "python",
   "name": "python3"
  },
  "language_info": {
   "codemirror_mode": {
    "name": "ipython",
    "version": 3
   },
   "file_extension": ".py",
   "mimetype": "text/x-python",
   "name": "python",
   "nbconvert_exporter": "python",
   "pygments_lexer": "ipython3",
   "version": "3.6.10"
  }
 },
 "nbformat": 4,
 "nbformat_minor": 4
}
