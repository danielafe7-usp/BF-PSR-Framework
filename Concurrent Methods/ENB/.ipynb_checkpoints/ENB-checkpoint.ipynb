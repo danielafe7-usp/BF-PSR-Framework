{
 "cells": [
  {
   "cell_type": "code",
   "execution_count": 1,
   "metadata": {},
   "outputs": [],
   "source": [
    "from utils_function import *\n",
    "import pandas as pd\n",
    "import numpy as np\n",
    "import gc"
   ]
  },
  {
   "cell_type": "markdown",
   "metadata": {},
   "source": [
    "# Implementation of ENB "
   ]
  },
  {
   "cell_type": "raw",
   "metadata": {},
   "source": [
    "# Modified from original repository: https://github.com/shrutikamtekar/Multinomial-Naive-Bayes-Classifier/blob/master/Binary%20Text%20Classification/multinomial_naive_bayes.py"
   ]
  },
  {
   "cell_type": "code",
   "execution_count": 2,
   "metadata": {},
   "outputs": [],
   "source": [
    "nb = MultinomialNaiveBayes()"
   ]
  },
  {
   "cell_type": "code",
   "execution_count": 3,
   "metadata": {},
   "outputs": [
    {
     "name": "stdout",
     "output_type": "stream",
     "text": [
      "(66927,)\n",
      "(66927,)\n"
     ]
    },
    {
     "data": {
      "text/html": [
       "<div>\n",
       "<style scoped>\n",
       "    .dataframe tbody tr th:only-of-type {\n",
       "        vertical-align: middle;\n",
       "    }\n",
       "\n",
       "    .dataframe tbody tr th {\n",
       "        vertical-align: top;\n",
       "    }\n",
       "\n",
       "    .dataframe thead th {\n",
       "        text-align: right;\n",
       "    }\n",
       "</style>\n",
       "<table border=\"1\" class=\"dataframe\">\n",
       "  <thead>\n",
       "    <tr style=\"text-align: right;\">\n",
       "      <th></th>\n",
       "      <th>0</th>\n",
       "      <th>1</th>\n",
       "      <th>2</th>\n",
       "    </tr>\n",
       "  </thead>\n",
       "  <tbody>\n",
       "    <tr>\n",
       "      <th>0</th>\n",
       "      <td>Hola. hi. whats up? not a ton. you? same.  bei...</td>\n",
       "      <td>03:20</td>\n",
       "      <td>0</td>\n",
       "    </tr>\n",
       "    <tr>\n",
       "      <th>1</th>\n",
       "      <td>asuu lonte koe hi</td>\n",
       "      <td>14:36</td>\n",
       "      <td>0</td>\n",
       "    </tr>\n",
       "    <tr>\n",
       "      <th>2</th>\n",
       "      <td>hi asl m or f m</td>\n",
       "      <td>02:55</td>\n",
       "      <td>0</td>\n",
       "    </tr>\n",
       "    <tr>\n",
       "      <th>3</th>\n",
       "      <td>happy is ayuppie word. a yuppie * yuppie hehe....</td>\n",
       "      <td>12:37</td>\n",
       "      <td>0</td>\n",
       "    </tr>\n",
       "    <tr>\n",
       "      <th>4</th>\n",
       "      <td>ask me 5 questions and i will answer them trut...</td>\n",
       "      <td>02:45</td>\n",
       "      <td>0</td>\n",
       "    </tr>\n",
       "  </tbody>\n",
       "</table>\n",
       "</div>"
      ],
      "text/plain": [
       "                                                   0      1  2\n",
       "0  Hola. hi. whats up? not a ton. you? same.  bei...  03:20  0\n",
       "1                                 asuu lonte koe hi   14:36  0\n",
       "2                                   hi asl m or f m   02:55  0\n",
       "3  happy is ayuppie word. a yuppie * yuppie hehe....  12:37  0\n",
       "4  ask me 5 questions and i will answer them trut...  02:45  0"
      ]
     },
     "execution_count": 3,
     "metadata": {},
     "output_type": "execute_result"
    }
   ],
   "source": [
    "train_path = '../../Data/train.csv'\n",
    "PATH = train_path \n",
    "df  = pd.read_csv(PATH,encoding='utf-8',header=None)\n",
    "Xss_train = df[0]\n",
    "Ys_train = df[2]\n",
    "print(Xss_train.shape)\n",
    "print(Ys_train.shape)\n",
    "df.head()"
   ]
  },
  {
   "cell_type": "code",
   "execution_count": 4,
   "metadata": {},
   "outputs": [
    {
     "name": "stdout",
     "output_type": "stream",
     "text": [
      "(155128,)\n",
      "(155128,)\n"
     ]
    },
    {
     "data": {
      "text/html": [
       "<div>\n",
       "<style scoped>\n",
       "    .dataframe tbody tr th:only-of-type {\n",
       "        vertical-align: middle;\n",
       "    }\n",
       "\n",
       "    .dataframe tbody tr th {\n",
       "        vertical-align: top;\n",
       "    }\n",
       "\n",
       "    .dataframe thead th {\n",
       "        text-align: right;\n",
       "    }\n",
       "</style>\n",
       "<table border=\"1\" class=\"dataframe\">\n",
       "  <thead>\n",
       "    <tr style=\"text-align: right;\">\n",
       "      <th></th>\n",
       "      <th>0</th>\n",
       "      <th>1</th>\n",
       "      <th>2</th>\n",
       "    </tr>\n",
       "  </thead>\n",
       "  <tbody>\n",
       "    <tr>\n",
       "      <th>0</th>\n",
       "      <td>bugmail: [Bug 6978] New: Mark eof-terminated s...</td>\n",
       "      <td>15:24</td>\n",
       "      <td>0</td>\n",
       "    </tr>\n",
       "    <tr>\n",
       "      <th>1</th>\n",
       "      <td>back ok babe what happend babe dog wanted out ...</td>\n",
       "      <td>19:28</td>\n",
       "      <td>1</td>\n",
       "    </tr>\n",
       "    <tr>\n",
       "      <th>2</th>\n",
       "      <td>hello boys are shit that they are hi sorry i w...</td>\n",
       "      <td>03:10</td>\n",
       "      <td>0</td>\n",
       "    </tr>\n",
       "    <tr>\n",
       "      <th>3</th>\n",
       "      <td>hi hii hous it going? w r u from ?</td>\n",
       "      <td>10:36</td>\n",
       "      <td>0</td>\n",
       "    </tr>\n",
       "    <tr>\n",
       "      <th>4</th>\n",
       "      <td>hello there how are ya? hey so, where are you ...</td>\n",
       "      <td>14:11</td>\n",
       "      <td>0</td>\n",
       "    </tr>\n",
       "  </tbody>\n",
       "</table>\n",
       "</div>"
      ],
      "text/plain": [
       "                                                   0      1  2\n",
       "0  bugmail: [Bug 6978] New: Mark eof-terminated s...  15:24  0\n",
       "1  back ok babe what happend babe dog wanted out ...  19:28  1\n",
       "2  hello boys are shit that they are hi sorry i w...  03:10  0\n",
       "3                hi hii hous it going? w r u from ?   10:36  0\n",
       "4  hello there how are ya? hey so, where are you ...  14:11  0"
      ]
     },
     "execution_count": 4,
     "metadata": {},
     "output_type": "execute_result"
    }
   ],
   "source": [
    "test_path = '../../Data/test.csv'\n",
    "PATH = test_path \n",
    "df  = pd.read_csv(PATH,encoding='utf-8',header=None)\n",
    "Xss_test = df[0]\n",
    "Xss_test_original = Xss_test\n",
    "Ys_test = df[2]\n",
    "Ys_test_orignal = Ys_test\n",
    "print(Xss_test.shape)\n",
    "print(Ys_test.shape)\n",
    "df.head()"
   ]
  },
  {
   "cell_type": "code",
   "execution_count": 5,
   "metadata": {},
   "outputs": [
    {
     "name": "stdout",
     "output_type": "stream",
     "text": [
      "Groomers:  2016  Non-groomers:  64911\n",
      "Groomers:  3737  Non-groomers:  151391\n"
     ]
    }
   ],
   "source": [
    "Ys_train = np.asarray(Ys_train)\n",
    "Ys_test = np.asarray(Ys_test)\n",
    "posis_train = np.argwhere(Ys_train==1)\n",
    "posis_test  = np.argwhere(Ys_test==1)\n",
    "negas_train = np.argwhere(Ys_train==0)\n",
    "negas_test  = np.argwhere(Ys_test==0)\n",
    "print(\"Groomers: \",len(posis_train),\" Non-groomers: \", len(negas_train))\n",
    "print(\"Groomers: \",len(posis_test),\" Non-groomers: \", len(negas_test))"
   ]
  },
  {
   "cell_type": "markdown",
   "metadata": {},
   "source": [
    "# Applying steamming to the documents"
   ]
  },
  {
   "cell_type": "code",
   "execution_count": 6,
   "metadata": {},
   "outputs": [
    {
     "name": "stdout",
     "output_type": "stream",
     "text": [
      "Compile if it is the frst time ...\n"
     ]
    }
   ],
   "source": [
    "\"\"\"\n",
    "documents_train = steamming_documents(Xss_train)\n",
    "documents_test = steamming_documents(Xss_test)\n",
    "saving_pkl(documents_train,\"Data/documents_train_NB\")\n",
    "saving_pkl(documents_test,\"Data/documents_test_NB\")\n",
    "\"\"\"\n",
    "print(\"Compile if it is the frst time ...\")"
   ]
  },
  {
   "cell_type": "code",
   "execution_count": 7,
   "metadata": {},
   "outputs": [],
   "source": [
    "documents_train = loading_pkl(\"Data/documents_train_NB\")\n",
    "documents_test = loading_pkl(\"Data/documents_test_NB\")\n",
    "Xss_train = documents_train\n",
    "Xss_test = documents_test"
   ]
  },
  {
   "cell_type": "markdown",
   "metadata": {},
   "source": [
    "# Removing SW"
   ]
  },
  {
   "cell_type": "code",
   "execution_count": 8,
   "metadata": {},
   "outputs": [
    {
     "name": "stdout",
     "output_type": "stream",
     "text": [
      "Removing SW \n"
     ]
    }
   ],
   "source": [
    "'''\n",
    "Xss_train = removing_sw(Xss_train)\n",
    "Xss_test = removing_sw(Xss_test)\n",
    "Xss_train[4]\n",
    "'''\n",
    "print(\"Removing SW \")"
   ]
  },
  {
   "cell_type": "markdown",
   "metadata": {},
   "source": [
    "# N-grams"
   ]
  },
  {
   "cell_type": "code",
   "execution_count": 9,
   "metadata": {},
   "outputs": [
    {
     "name": "stdout",
     "output_type": "stream",
     "text": [
      "Final ..\n"
     ]
    }
   ],
   "source": [
    "'''\n",
    "Xss_train = n_grams(Xss_train)\n",
    "Xss_test = n_grams(Xss_test)\n",
    "Xss_train[4]\n",
    "saving_pkl(Xss_train,\"Data/documents_train_final\")\n",
    "saving_pkl(Xss_test,\"Data/documents_test_final\")\n",
    "'''\n",
    "print(\"Final ..\")"
   ]
  },
  {
   "cell_type": "code",
   "execution_count": 10,
   "metadata": {},
   "outputs": [],
   "source": [
    "Xss_train = loading_pkl(\"Data/documents_train_final\")\n",
    "Xss_test = loading_pkl(\"Data/documents_test_final\")"
   ]
  },
  {
   "cell_type": "code",
   "execution_count": 11,
   "metadata": {},
   "outputs": [
    {
     "name": "stdout",
     "output_type": "stream",
     "text": [
      "Num groomer Before:  3737\n"
     ]
    }
   ],
   "source": [
    "g_test = sum([1 for i in Ys_test if i ==1])\n",
    "print(\"Num groomer Before: \",g_test)"
   ]
  },
  {
   "cell_type": "code",
   "execution_count": 12,
   "metadata": {},
   "outputs": [],
   "source": [
    "X_train,Ys_train = pre_processing_conversations(Xss_train,Ys_train)\n",
    "X_test,Ys_test = pre_processing_conversations(Xss_test,Ys_test)"
   ]
  },
  {
   "cell_type": "code",
   "execution_count": 13,
   "metadata": {},
   "outputs": [
    {
     "name": "stdout",
     "output_type": "stream",
     "text": [
      "Num groomer After:  3367\n"
     ]
    }
   ],
   "source": [
    "g_test = sum([1 for i in Ys_test if i ==1])\n",
    "print(\"Num groomer After: \",g_test)"
   ]
  },
  {
   "cell_type": "code",
   "execution_count": 14,
   "metadata": {},
   "outputs": [
    {
     "data": {
      "text/plain": [
       "11335"
      ]
     },
     "execution_count": 14,
     "metadata": {},
     "output_type": "execute_result"
    }
   ],
   "source": [
    "vectorizer = TfidfVectorizer(min_df = 10)\n",
    "X = vectorizer.fit_transform(X_train)\n",
    "X_train = X.toarray()\n",
    "DicC = vectorizer.get_feature_names()\n",
    "len(DicC)"
   ]
  },
  {
   "cell_type": "code",
   "execution_count": 16,
   "metadata": {},
   "outputs": [
    {
     "name": "stdout",
     "output_type": "stream",
     "text": [
      "(150903, 11335)\n",
      "(65045, 11335) (150903, 11335)\n"
     ]
    }
   ],
   "source": [
    "vectorizer = TfidfVectorizer(vocabulary=DicC) \n",
    "X = vectorizer.fit_transform(X_test)\n",
    "print(X.shape)\n",
    "X_test = X.toarray()\n",
    "print(X_train.shape,X_test.shape)"
   ]
  },
  {
   "cell_type": "code",
   "execution_count": 17,
   "metadata": {},
   "outputs": [],
   "source": [
    "Y_train = np.asarray(Ys_train)\n",
    "Y_test  = np.asarray(Ys_test)"
   ]
  },
  {
   "cell_type": "code",
   "execution_count": 18,
   "metadata": {},
   "outputs": [],
   "source": [
    "params = nb.train(X_train, Y_train)\n",
    "predict_test = nb.test(X_test, params)"
   ]
  },
  {
   "cell_type": "code",
   "execution_count": 19,
   "metadata": {},
   "outputs": [
    {
     "name": "stdout",
     "output_type": "stream",
     "text": [
      "The F1 mesure with the 100% of the information is:  0.3412\n",
      "Filter groomers:  357\n",
      "0.317\n"
     ]
    }
   ],
   "source": [
    "f1_g = np.round(f1_score(Y_test,predict_test,average='binary',pos_label=1),4)\n",
    "print(\"The F1 mesure with the 100% of the information is: \",f1_g)\n",
    "g_test = 3724 # Number of empty groomers before pre-preocessing, Original SGD testing have 3737 groomers, however 3724 are not empty\n",
    "print(error_filtering(g_test,Y_test,predict_test))"
   ]
  },
  {
   "cell_type": "markdown",
   "metadata": {},
   "source": [
    "# Also testing with NB from package sklearn"
   ]
  },
  {
   "cell_type": "code",
   "execution_count": 20,
   "metadata": {},
   "outputs": [
    {
     "name": "stdout",
     "output_type": "stream",
     "text": [
      "The F1 mesure with the 100% of the information is:  0.3412\n"
     ]
    },
    {
     "data": {
      "text/plain": [
       "array([[147028,    508],\n",
       "       [  2570,    797]])"
      ]
     },
     "execution_count": 20,
     "metadata": {},
     "output_type": "execute_result"
    }
   ],
   "source": [
    "from sklearn.naive_bayes import MultinomialNB\n",
    "from sklearn.metrics import confusion_matrix\n",
    "NB = MultinomialNB()\n",
    "NB_model = NB.fit(X_train, Y_train)\n",
    "NB_predictions = NB_model.predict(X_test)\n",
    "f1_g = np.round(f1_score(Y_test,NB_predictions,average='binary',pos_label=1),4)\n",
    "print(\"The F1 mesure with the 100% of the information is: \",f1_g)\n",
    "confusion_matrix(Y_test, NB_predictions)"
   ]
  },
  {
   "cell_type": "markdown",
   "metadata": {},
   "source": [
    "# Testing with partial information"
   ]
  },
  {
   "cell_type": "code",
   "execution_count": 21,
   "metadata": {},
   "outputs": [],
   "source": [
    "retains = [0.1,0.2,0.3,0.4,0.5,0.6,0.7,0.8,0.9,1]\n",
    "#simulated_docs = get_percentage_document(Xss_test_original,retains)\n",
    "#saving_pkl(simulated_docs,\"Savings/simulated_docs\")\n",
    "simulated_docs = loading_pkl(\"dataSavings/simulated_docs\")"
   ]
  },
  {
   "cell_type": "code",
   "execution_count": 22,
   "metadata": {},
   "outputs": [],
   "source": [
    "def simulation_NB(labels):\n",
    "    j = 0\n",
    "    mnb = list()\n",
    "    for sd in (simulated_docs):\n",
    "        # Each sd contains  the x% of every document \n",
    "        print(\"---------------------------------------- \",retains[j]*100,\" ---------------------------------------------\")\n",
    "\n",
    "        \n",
    "        sd_steammed = steamming_documents(sd)\n",
    "        \n",
    "        sd_steammed = removing_sw(sd_steammed)\n",
    "        \n",
    "        sd_ngrams = n_grams(sd_steammed)\n",
    "\n",
    "        # Processing the set of documents\n",
    "        #doc_partial,Y_partial = removing_empty(sd_steammed,labels)\n",
    "        doc_partial,Y_partial = pre_processing_conversations(sd_ngrams,labels)\n",
    "        Y_partial = np.asarray(Y_partial)\n",
    "\n",
    "        # Transforming the documents to a matrix\n",
    "        vectorizer = TfidfVectorizer(vocabulary=DicC) \n",
    "        X = vectorizer.fit_transform(doc_partial)\n",
    "        X_partial = X.toarray()\n",
    "        print(X_partial.shape)\n",
    "        \n",
    "\n",
    "        # Performing predictions with NB\n",
    "        predict_test = nb.test(X_partial, params)\n",
    "        f1 = np.round(f1_score(Y_partial,predict_test,average='binary',pos_label=1),4)\n",
    "        f1_error = error_filtering(g_test,Y_partial,predict_test)\n",
    "        print(\"Our NB: \",f1,\" \",f1_error)\n",
    "        mnb.append(f1_error)\n",
    "        \n",
    "        NB_predictions = NB_model.predict(X_partial)\n",
    "        f1_g = np.round(f1_score(Y_partial,NB_predictions,average='binary',pos_label=1),4)\n",
    "        NB_error =error_filtering(3724,Y_partial,NB_predictions)\n",
    "        print(\"Sklearn NB: \",f1_g,\" \",NB_error)\n",
    "\n",
    "        # Free memory\n",
    "        del vectorizer\n",
    "        gc.collect()\n",
    "        j += 1\n",
    "    return mnb"
   ]
  },
  {
   "cell_type": "code",
   "execution_count": 23,
   "metadata": {
    "scrolled": true
   },
   "outputs": [
    {
     "name": "stderr",
     "output_type": "stream",
     "text": [
      "  0%|          | 0/155128 [00:00<?, ?it/s]"
     ]
    },
    {
     "name": "stdout",
     "output_type": "stream",
     "text": [
      "----------------------------------------  10.0  ---------------------------------------------\n"
     ]
    },
    {
     "name": "stderr",
     "output_type": "stream",
     "text": [
      "100%|██████████| 155128/155128 [02:08<00:00, 1205.45it/s]\n",
      "100%|██████████| 155128/155128 [01:43<00:00, 1504.42it/s]\n"
     ]
    },
    {
     "name": "stdout",
     "output_type": "stream",
     "text": [
      "(84691, 11335)\n",
      "Filter groomers:  1280\n",
      "Our NB:  0.0785   0.0545\n",
      "Filter groomers:  1280\n",
      "Sklearn NB:  0.0785   0.0545\n"
     ]
    },
    {
     "name": "stderr",
     "output_type": "stream",
     "text": [
      "  0%|          | 153/155128 [00:00<01:41, 1525.63it/s]"
     ]
    },
    {
     "name": "stdout",
     "output_type": "stream",
     "text": [
      "----------------------------------------  20.0  ---------------------------------------------\n"
     ]
    },
    {
     "name": "stderr",
     "output_type": "stream",
     "text": [
      "100%|██████████| 155128/155128 [02:55<00:00, 881.98it/s] \n",
      "100%|██████████| 155128/155128 [02:01<00:00, 1281.22it/s]\n"
     ]
    },
    {
     "name": "stdout",
     "output_type": "stream",
     "text": [
      "(108225, 11335)\n",
      "Filter groomers:  930\n",
      "Our NB:  0.1515   0.1189\n",
      "Filter groomers:  930\n",
      "Sklearn NB:  0.1515   0.1189\n",
      "---------------------------------------- "
     ]
    },
    {
     "name": "stderr",
     "output_type": "stream",
     "text": [
      "  0%|          | 107/155128 [00:00<02:38, 979.04it/s]"
     ]
    },
    {
     "name": "stdout",
     "output_type": "stream",
     "text": [
      " 30.0  ---------------------------------------------\n"
     ]
    },
    {
     "name": "stderr",
     "output_type": "stream",
     "text": [
      "100%|██████████| 155128/155128 [03:31<00:00, 733.74it/s] \n",
      "100%|██████████| 155128/155128 [02:18<00:00, 1117.78it/s]\n"
     ]
    },
    {
     "name": "stdout",
     "output_type": "stream",
     "text": [
      "(124701, 11335)\n",
      "Filter groomers:  721\n",
      "Our NB:  0.1851   0.1548\n",
      "Filter groomers:  721\n",
      "Sklearn NB:  0.1851   0.1548\n"
     ]
    },
    {
     "name": "stderr",
     "output_type": "stream",
     "text": [
      "  0%|          | 72/155128 [00:00<03:37, 712.19it/s]"
     ]
    },
    {
     "name": "stdout",
     "output_type": "stream",
     "text": [
      "----------------------------------------  40.0  ---------------------------------------------\n"
     ]
    },
    {
     "name": "stderr",
     "output_type": "stream",
     "text": [
      "100%|██████████| 155128/155128 [04:12<00:00, 614.07it/s] \n",
      "100%|██████████| 155128/155128 [02:35<00:00, 995.63it/s] \n"
     ]
    },
    {
     "name": "stdout",
     "output_type": "stream",
     "text": [
      "(133266, 11335)\n",
      "Filter groomers:  633\n",
      "Our NB:  0.2077   0.1782\n",
      "Filter groomers:  633\n",
      "Sklearn NB:  0.2077   0.1782\n"
     ]
    },
    {
     "name": "stderr",
     "output_type": "stream",
     "text": [
      "  0%|          | 68/155128 [00:00<04:28, 576.56it/s]"
     ]
    },
    {
     "name": "stdout",
     "output_type": "stream",
     "text": [
      "----------------------------------------  50.0  ---------------------------------------------\n"
     ]
    },
    {
     "name": "stderr",
     "output_type": "stream",
     "text": [
      "100%|██████████| 155128/155128 [05:46<00:00, 447.48it/s] \n",
      "100%|██████████| 155128/155128 [03:49<00:00, 676.79it/s] \n"
     ]
    },
    {
     "name": "stdout",
     "output_type": "stream",
     "text": [
      "(139322, 11335)\n",
      "Filter groomers:  555\n",
      "Our NB:  0.2305   0.2024\n",
      "Filter groomers:  555\n",
      "Sklearn NB:  0.2305   0.2024\n"
     ]
    },
    {
     "name": "stderr",
     "output_type": "stream",
     "text": [
      "  0%|          | 59/155128 [00:00<04:55, 525.49it/s]"
     ]
    },
    {
     "name": "stdout",
     "output_type": "stream",
     "text": [
      "----------------------------------------  60.0  ---------------------------------------------\n"
     ]
    },
    {
     "name": "stderr",
     "output_type": "stream",
     "text": [
      "100%|██████████| 155128/155128 [08:43<00:00, 296.52it/s] \n",
      "100%|██████████| 155128/155128 [06:19<00:00, 409.21it/s] \n"
     ]
    },
    {
     "name": "stdout",
     "output_type": "stream",
     "text": [
      "(143792, 11335)\n",
      "Filter groomers:  491\n",
      "Our NB:  0.2534   0.2266\n",
      "Filter groomers:  491\n",
      "Sklearn NB:  0.2534   0.2266\n"
     ]
    },
    {
     "name": "stderr",
     "output_type": "stream",
     "text": [
      "  0%|          | 37/155128 [00:00<07:10, 360.36it/s]"
     ]
    },
    {
     "name": "stdout",
     "output_type": "stream",
     "text": [
      "----------------------------------------  70.0  ---------------------------------------------\n"
     ]
    },
    {
     "name": "stderr",
     "output_type": "stream",
     "text": [
      "100%|██████████| 155128/155128 [10:22<00:00, 249.04it/s]  \n",
      "100%|██████████| 155128/155128 [07:53<00:00, 327.63it/s]  \n"
     ]
    },
    {
     "name": "stdout",
     "output_type": "stream",
     "text": [
      "(147030, 11335)\n",
      "Filter groomers:  444\n",
      "Our NB:  0.2659   0.2408\n",
      "Filter groomers:  444\n",
      "Sklearn NB:  0.2659   0.2408\n"
     ]
    },
    {
     "name": "stderr",
     "output_type": "stream",
     "text": [
      "  0%|          | 39/155128 [00:00<06:50, 378.10it/s]"
     ]
    },
    {
     "name": "stdout",
     "output_type": "stream",
     "text": [
      "----------------------------------------  80.0  ---------------------------------------------\n"
     ]
    },
    {
     "name": "stderr",
     "output_type": "stream",
     "text": [
      "100%|██████████| 155128/155128 [12:25<00:00, 207.95it/s]  \n",
      "100%|██████████| 155128/155128 [09:08<00:00, 282.74it/s] \n"
     ]
    },
    {
     "name": "stdout",
     "output_type": "stream",
     "text": [
      "(148294, 11335)\n",
      "Filter groomers:  399\n",
      "Our NB:  0.2795   0.2561\n",
      "Filter groomers:  399\n",
      "Sklearn NB:  0.2795   0.2561\n"
     ]
    },
    {
     "name": "stderr",
     "output_type": "stream",
     "text": [
      "  0%|          | 36/155128 [00:00<07:21, 351.49it/s]"
     ]
    },
    {
     "name": "stdout",
     "output_type": "stream",
     "text": [
      "----------------------------------------  90.0  ---------------------------------------------\n"
     ]
    },
    {
     "name": "stderr",
     "output_type": "stream",
     "text": [
      "100%|██████████| 155128/155128 [13:52<00:00, 186.41it/s]  \n",
      "100%|██████████| 155128/155128 [10:19<00:00, 250.39it/s] \n"
     ]
    },
    {
     "name": "stdout",
     "output_type": "stream",
     "text": [
      "(149663, 11335)\n",
      "Filter groomers:  365\n",
      "Our NB:  0.2923   0.2703\n",
      "Filter groomers:  365\n",
      "Sklearn NB:  0.2923   0.2703\n"
     ]
    },
    {
     "name": "stderr",
     "output_type": "stream",
     "text": [
      "  0%|          | 30/155128 [00:00<09:14, 279.67it/s]"
     ]
    },
    {
     "name": "stdout",
     "output_type": "stream",
     "text": [
      "----------------------------------------  100  ---------------------------------------------\n"
     ]
    },
    {
     "name": "stderr",
     "output_type": "stream",
     "text": [
      "100%|██████████| 155128/155128 [16:30<00:00, 156.69it/s]  \n",
      "100%|██████████| 155128/155128 [12:27<00:00, 207.43it/s]  \n"
     ]
    },
    {
     "name": "stdout",
     "output_type": "stream",
     "text": [
      "(150894, 11335)\n",
      "Filter groomers:  357\n",
      "Our NB:  0.3412   0.317\n",
      "Filter groomers:  357\n",
      "Sklearn NB:  0.3412   0.317\n"
     ]
    }
   ],
   "source": [
    "mnb_f1 = simulation_NB(Ys_test_orignal)"
   ]
  },
  {
   "cell_type": "markdown",
   "metadata": {},
   "source": [
    "# Testing with SGD testing corpus"
   ]
  },
  {
   "cell_type": "code",
   "execution_count": 29,
   "metadata": {},
   "outputs": [
    {
     "data": {
      "image/png": "[encoded data removed]",
      "text/plain": [
       "<Figure size 1000x400 with 1 Axes>"
      ]
     },
     "metadata": {},
     "output_type": "display_data"
    }
   ],
   "source": [
    "results = mnb_f1.copy()\n",
    "plotting(results,\"#7a3e48\",\"s\",\"ENB\") "
   ]
  },
  {
   "cell_type": "code",
   "execution_count": 25,
   "metadata": {},
   "outputs": [
    {
     "data": {
      "text/plain": [
       "[0.0545, 0.1189, 0.1548, 0.1782, 0.2024, 0.2266, 0.2408, 0.2561, 0.2703, 0.317]"
      ]
     },
     "execution_count": 25,
     "metadata": {},
     "output_type": "execute_result"
    }
   ],
   "source": [
    "mnb_f1"
   ]
  },
  {
   "cell_type": "code",
   "execution_count": 31,
   "metadata": {},
   "outputs": [],
   "source": [
    "def calculating_preds(PATH,num_chunks):\n",
    "\n",
    "    print(\"Extracting conversations\")\n",
    "    data_set = loading_pkl(PATH) \n",
    "    matrix_text,labels,start_time_conversations,number_participants,matrix = data_set    \n",
    "    groomers = sum([1 for i in labels if i==1])\n",
    "    print(\"Num of groomers ... \",groomers)\n",
    "    print(\"%text: \",(matrix_text.shape))\n",
    "    print(\"labels: \",len(labels),labels[0])\n",
    "    print(\"start_time_conversations: \",len(start_time_conversations),start_time_conversations[0])\n",
    "    print(\"# participants: \",(number_participants.shape),number_participants[0][0])\n",
    "    print(\"%int matrix: \",(matrix.shape),matrix[0][0])\n",
    "    print(\"+\"*40)\n",
    "    \n",
    "    mnb = list()\n",
    "    for  chunk in range(num_chunks):\n",
    "        doc_partial = matrix_text[:,chunk]\n",
    "        Y_partial = labels\n",
    "        \n",
    "        sd_steammed = steamming_documents(doc_partial)\n",
    "        \n",
    "        sd_steammed = removing_sw(sd_steammed)\n",
    "        \n",
    "        sd_ngrams = n_grams(sd_steammed)\n",
    "\n",
    "        # Processing the set of documents\n",
    "        doc_partial,Y_partial = pre_processing_conversations(sd_ngrams,Y_partial)\n",
    "        Y_partial = np.asarray(Y_partial)\n",
    "\n",
    "        # Transforming the documents to a matrix\n",
    "        vectorizer = TfidfVectorizer(vocabulary=DicC) \n",
    "        X = vectorizer.fit_transform(doc_partial)\n",
    "        X_partial = X.toarray()\n",
    "        print(X_partial.shape)\n",
    "        \n",
    "\n",
    "        # Performing predictions with NB\n",
    "        predict_test = nb.test(X_partial, params)\n",
    "        f1 = np.round(f1_score(Y_partial,predict_test,average='binary',pos_label=1),4)\n",
    "        f1_error = error_filtering(1104,Y_partial,predict_test)\n",
    "        print(\"Our NB: \",f1,\" \",f1_error)\n",
    "        mnb.append(f1_error)\n",
    "        \n",
    "        NB_predictions = NB_model.predict(X_partial)\n",
    "        f1_g = np.round(f1_score(Y_partial,NB_predictions,average='binary',pos_label=1),4)\n",
    "        NB_error =error_filtering(1104,Y_partial,NB_predictions)\n",
    "        print(\"Sklearn NB: \",f1_g,\" \",NB_error)\n",
    "\n",
    "        # Free memory\n",
    "        del vectorizer\n",
    "        gc.collect()\n",
    "    \n",
    "    print(mnb)\n",
    "    results = mnb.copy()\n",
    "    plotting(results,\"#7a3e48\",\"s\",\"ENB\") \n",
    "    return mnb"
   ]
  },
  {
   "cell_type": "markdown",
   "metadata": {},
   "source": [
    "# Testing with PJZC dataset"
   ]
  },
  {
   "cell_type": "code",
   "execution_count": 32,
   "metadata": {},
   "outputs": [
    {
     "name": "stdout",
     "output_type": "stream",
     "text": [
      "Extracting conversations\n"
     ]
    },
    {
     "name": "stderr",
     "output_type": "stream",
     "text": [
      "  1%|          | 118/21070 [00:00<00:17, 1176.72it/s]"
     ]
    },
    {
     "name": "stdout",
     "output_type": "stream",
     "text": [
      "Num of groomers ...  1104\n",
      "%text:  (21070, 10)\n",
      "labels:  21070 0\n",
      "start_time_conversations:  21070 18:10\n",
      "# participants:  (21070, 10) [1]\n",
      "%int matrix:  (21070, 10) [1. 0. 0. 0. 0.]\n",
      "++++++++++++++++++++++++++++++++++++++++\n"
     ]
    },
    {
     "name": "stderr",
     "output_type": "stream",
     "text": [
      "100%|██████████| 21070/21070 [00:17<00:00, 1230.71it/s]\n",
      "100%|██████████| 21070/21070 [00:06<00:00, 3079.73it/s]\n"
     ]
    },
    {
     "name": "stdout",
     "output_type": "stream",
     "text": [
      "(20431, 11335)\n",
      "Filter groomers:  126\n",
      "Our NB:  0.0339   0.0301\n"
     ]
    },
    {
     "name": "stderr",
     "output_type": "stream",
     "text": [
      "  0%|          | 0/21070 [00:00<?, ?it/s]"
     ]
    },
    {
     "name": "stdout",
     "output_type": "stream",
     "text": [
      "Filter groomers:  126\n",
      "Sklearn NB:  0.0339   0.0301\n"
     ]
    },
    {
     "name": "stderr",
     "output_type": "stream",
     "text": [
      "100%|██████████| 21070/21070 [00:26<00:00, 797.66it/s]\n",
      "100%|██████████| 21070/21070 [00:10<00:00, 2092.21it/s]\n"
     ]
    },
    {
     "name": "stdout",
     "output_type": "stream",
     "text": [
      "(20518, 11335)\n",
      "Filter groomers:  112\n",
      "Our NB:  0.0526   0.0475\n"
     ]
    },
    {
     "name": "stderr",
     "output_type": "stream",
     "text": [
      "  0%|          | 0/21070 [00:00<?, ?it/s]"
     ]
    },
    {
     "name": "stdout",
     "output_type": "stream",
     "text": [
      "Filter groomers:  112\n",
      "Sklearn NB:  0.0526   0.0475\n"
     ]
    },
    {
     "name": "stderr",
     "output_type": "stream",
     "text": [
      "100%|██████████| 21070/21070 [00:35<00:00, 585.46it/s]\n",
      "100%|██████████| 21070/21070 [00:13<00:00, 1597.08it/s]\n"
     ]
    },
    {
     "name": "stdout",
     "output_type": "stream",
     "text": [
      "(20564, 11335)\n",
      "Filter groomers:  101\n",
      "Our NB:  0.0817   0.0746\n"
     ]
    },
    {
     "name": "stderr",
     "output_type": "stream",
     "text": [
      "  0%|          | 0/21070 [00:00<?, ?it/s]"
     ]
    },
    {
     "name": "stdout",
     "output_type": "stream",
     "text": [
      "Filter groomers:  101\n",
      "Sklearn NB:  0.0817   0.0746\n"
     ]
    },
    {
     "name": "stderr",
     "output_type": "stream",
     "text": [
      "100%|██████████| 21070/21070 [00:45<00:00, 465.06it/s]\n",
      "100%|██████████| 21070/21070 [00:16<00:00, 1295.60it/s]\n"
     ]
    },
    {
     "name": "stdout",
     "output_type": "stream",
     "text": [
      "(20601, 11335)\n",
      "Filter groomers:  94\n",
      "Our NB:  0.1007   0.0926\n"
     ]
    },
    {
     "name": "stderr",
     "output_type": "stream",
     "text": [
      "  0%|          | 0/21070 [00:00<?, ?it/s]"
     ]
    },
    {
     "name": "stdout",
     "output_type": "stream",
     "text": [
      "Filter groomers:  94\n",
      "Sklearn NB:  0.1007   0.0926\n"
     ]
    },
    {
     "name": "stderr",
     "output_type": "stream",
     "text": [
      "100%|██████████| 21070/21070 [00:54<00:00, 386.23it/s]\n",
      "100%|██████████| 21070/21070 [00:19<00:00, 1091.43it/s]\n"
     ]
    },
    {
     "name": "stdout",
     "output_type": "stream",
     "text": [
      "(20612, 11335)\n",
      "Filter groomers:  91\n",
      "Our NB:  0.1005   0.0926\n"
     ]
    },
    {
     "name": "stderr",
     "output_type": "stream",
     "text": [
      "  0%|          | 0/21070 [00:00<?, ?it/s]"
     ]
    },
    {
     "name": "stdout",
     "output_type": "stream",
     "text": [
      "Filter groomers:  91\n",
      "Sklearn NB:  0.1005   0.0926\n"
     ]
    },
    {
     "name": "stderr",
     "output_type": "stream",
     "text": [
      "100%|██████████| 21070/21070 [01:04<00:00, 327.32it/s]\n",
      "100%|██████████| 21070/21070 [00:22<00:00, 938.41it/s] \n"
     ]
    },
    {
     "name": "stdout",
     "output_type": "stream",
     "text": [
      "(20652, 11335)\n",
      "Filter groomers:  82\n",
      "Our NB:  0.1082   0.1006\n"
     ]
    },
    {
     "name": "stderr",
     "output_type": "stream",
     "text": [
      "  0%|          | 0/21070 [00:00<?, ?it/s]"
     ]
    },
    {
     "name": "stdout",
     "output_type": "stream",
     "text": [
      "Filter groomers:  82\n",
      "Sklearn NB:  0.1082   0.1006\n"
     ]
    },
    {
     "name": "stderr",
     "output_type": "stream",
     "text": [
      "100%|██████████| 21070/21070 [01:13<00:00, 286.34it/s]\n",
      "100%|██████████| 21070/21070 [00:25<00:00, 833.45it/s]\n"
     ]
    },
    {
     "name": "stdout",
     "output_type": "stream",
     "text": [
      "(20661, 11335)\n",
      "Filter groomers:  82\n",
      "Our NB:  0.1252   0.1166\n"
     ]
    },
    {
     "name": "stderr",
     "output_type": "stream",
     "text": [
      "  0%|          | 0/21070 [00:00<?, ?it/s]"
     ]
    },
    {
     "name": "stdout",
     "output_type": "stream",
     "text": [
      "Filter groomers:  82\n",
      "Sklearn NB:  0.1252   0.1166\n"
     ]
    },
    {
     "name": "stderr",
     "output_type": "stream",
     "text": [
      "100%|██████████| 21070/21070 [01:22<00:00, 255.73it/s]\n",
      "100%|██████████| 21070/21070 [00:28<00:00, 742.31it/s]\n"
     ]
    },
    {
     "name": "stdout",
     "output_type": "stream",
     "text": [
      "(20665, 11335)\n",
      "Filter groomers:  82\n",
      "Our NB:  0.1285   0.1196\n"
     ]
    },
    {
     "name": "stderr",
     "output_type": "stream",
     "text": [
      "  0%|          | 0/21070 [00:00<?, ?it/s]"
     ]
    },
    {
     "name": "stdout",
     "output_type": "stream",
     "text": [
      "Filter groomers:  82\n",
      "Sklearn NB:  0.1285   0.1196\n"
     ]
    },
    {
     "name": "stderr",
     "output_type": "stream",
     "text": [
      "100%|██████████| 21070/21070 [01:31<00:00, 229.69it/s]\n",
      "100%|██████████| 21070/21070 [00:31<00:00, 670.89it/s]\n"
     ]
    },
    {
     "name": "stdout",
     "output_type": "stream",
     "text": [
      "(20676, 11335)\n",
      "Filter groomers:  82\n",
      "Our NB:  0.1355   0.1262\n"
     ]
    },
    {
     "name": "stderr",
     "output_type": "stream",
     "text": [
      "  0%|          | 0/21070 [00:00<?, ?it/s]"
     ]
    },
    {
     "name": "stdout",
     "output_type": "stream",
     "text": [
      "Filter groomers:  82\n",
      "Sklearn NB:  0.1355   0.1262\n"
     ]
    },
    {
     "name": "stderr",
     "output_type": "stream",
     "text": [
      "100%|██████████| 21070/21070 [01:38<00:00, 213.17it/s]\n",
      "100%|██████████| 21070/21070 [00:33<00:00, 624.02it/s]\n"
     ]
    },
    {
     "name": "stdout",
     "output_type": "stream",
     "text": [
      "(20676, 11335)\n",
      "Filter groomers:  82\n",
      "Our NB:  0.1504   0.1401\n",
      "Filter groomers:  82\n",
      "Sklearn NB:  0.1504   0.1401\n",
      "[0.0301, 0.0475, 0.0746, 0.0926, 0.0926, 0.1006, 0.1166, 0.1196, 0.1262, 0.1401]\n"
     ]
    },
    {
     "data": {
      "image/png": "[encoded data removed]",
      "text/plain": [
       "<Figure size 1000x400 with 1 Axes>"
      ]
     },
     "metadata": {},
     "output_type": "display_data"
    }
   ],
   "source": [
    "PATH = \"../../Data/PJZC.pkl\"\n",
    "mnb = calculating_preds(PATH,10)"
   ]
  },
  {
   "cell_type": "markdown",
   "metadata": {},
   "source": [
    "# Testing with PJZ dataset"
   ]
  },
  {
   "cell_type": "code",
   "execution_count": 33,
   "metadata": {},
   "outputs": [
    {
     "name": "stdout",
     "output_type": "stream",
     "text": [
      "Extracting conversations\n"
     ]
    },
    {
     "name": "stderr",
     "output_type": "stream",
     "text": [
      "  1%|          | 115/13822 [00:00<00:12, 1138.08it/s]"
     ]
    },
    {
     "name": "stdout",
     "output_type": "stream",
     "text": [
      "Num of groomers ...  1104\n",
      "%text:  (13822, 10)\n",
      "labels:  13822 0\n",
      "start_time_conversations:  13822 05:16\n",
      "# participants:  (13822, 10) [2]\n",
      "%int matrix:  (13822, 10) [0.625 0.375 0.    0.    0.   ]\n",
      "++++++++++++++++++++++++++++++++++++++++\n"
     ]
    },
    {
     "name": "stderr",
     "output_type": "stream",
     "text": [
      "100%|██████████| 13822/13822 [00:11<00:00, 1228.52it/s]\n",
      "100%|██████████| 13822/13822 [00:04<00:00, 3233.34it/s]\n"
     ]
    },
    {
     "name": "stdout",
     "output_type": "stream",
     "text": [
      "(13580, 11335)\n",
      "Filter groomers:  126\n",
      "Our NB:  0.0359   0.0319\n"
     ]
    },
    {
     "name": "stderr",
     "output_type": "stream",
     "text": [
      "  0%|          | 0/13822 [00:00<?, ?it/s]"
     ]
    },
    {
     "name": "stdout",
     "output_type": "stream",
     "text": [
      "Filter groomers:  126\n",
      "Sklearn NB:  0.0359   0.0319\n"
     ]
    },
    {
     "name": "stderr",
     "output_type": "stream",
     "text": [
      "100%|██████████| 13822/13822 [00:17<00:00, 807.78it/s]\n",
      "100%|██████████| 13822/13822 [00:06<00:00, 2256.12it/s]\n"
     ]
    },
    {
     "name": "stdout",
     "output_type": "stream",
     "text": [
      "(13613, 11335)\n",
      "Filter groomers:  112\n",
      "Our NB:  0.0564   0.0509\n"
     ]
    },
    {
     "name": "stderr",
     "output_type": "stream",
     "text": [
      "  0%|          | 0/13822 [00:00<?, ?it/s]"
     ]
    },
    {
     "name": "stdout",
     "output_type": "stream",
     "text": [
      "Filter groomers:  112\n",
      "Sklearn NB:  0.0564   0.0509\n"
     ]
    },
    {
     "name": "stderr",
     "output_type": "stream",
     "text": [
      "100%|██████████| 13822/13822 [00:22<00:00, 604.76it/s]\n",
      "100%|██████████| 13822/13822 [00:08<00:00, 1725.03it/s]\n"
     ]
    },
    {
     "name": "stdout",
     "output_type": "stream",
     "text": [
      "(13634, 11335)\n",
      "Filter groomers:  101\n",
      "Our NB:  0.0855   0.078\n"
     ]
    },
    {
     "name": "stderr",
     "output_type": "stream",
     "text": [
      "  0%|          | 0/13822 [00:00<?, ?it/s]"
     ]
    },
    {
     "name": "stdout",
     "output_type": "stream",
     "text": [
      "Filter groomers:  101\n",
      "Sklearn NB:  0.0855   0.078\n"
     ]
    },
    {
     "name": "stderr",
     "output_type": "stream",
     "text": [
      "100%|██████████| 13822/13822 [00:28<00:00, 482.14it/s]\n",
      "100%|██████████| 13822/13822 [00:09<00:00, 1417.31it/s]\n"
     ]
    },
    {
     "name": "stdout",
     "output_type": "stream",
     "text": [
      "(13646, 11335)\n",
      "Filter groomers:  94\n",
      "Our NB:  0.1063   0.0978\n"
     ]
    },
    {
     "name": "stderr",
     "output_type": "stream",
     "text": [
      "  0%|          | 0/13822 [00:00<?, ?it/s]"
     ]
    },
    {
     "name": "stdout",
     "output_type": "stream",
     "text": [
      "Filter groomers:  94\n",
      "Sklearn NB:  0.1063   0.0978\n"
     ]
    },
    {
     "name": "stderr",
     "output_type": "stream",
     "text": [
      "100%|██████████| 13822/13822 [00:34<00:00, 401.88it/s]\n",
      "100%|██████████| 13822/13822 [00:11<00:00, 1188.11it/s]\n"
     ]
    },
    {
     "name": "stdout",
     "output_type": "stream",
     "text": [
      "(13652, 11335)\n",
      "Filter groomers:  91\n",
      "Our NB:  0.1007   0.0928\n"
     ]
    },
    {
     "name": "stderr",
     "output_type": "stream",
     "text": [
      "  0%|          | 0/13822 [00:00<?, ?it/s]"
     ]
    },
    {
     "name": "stdout",
     "output_type": "stream",
     "text": [
      "Filter groomers:  91\n",
      "Sklearn NB:  0.1007   0.0928\n"
     ]
    },
    {
     "name": "stderr",
     "output_type": "stream",
     "text": [
      "100%|██████████| 13822/13822 [00:40<00:00, 342.71it/s]\n",
      "100%|██████████| 13822/13822 [00:13<00:00, 1031.27it/s]\n"
     ]
    },
    {
     "name": "stdout",
     "output_type": "stream",
     "text": [
      "(13665, 11335)\n",
      "Filter groomers:  82\n",
      "Our NB:  0.1085   0.1009\n"
     ]
    },
    {
     "name": "stderr",
     "output_type": "stream",
     "text": [
      "  0%|          | 0/13822 [00:00<?, ?it/s]"
     ]
    },
    {
     "name": "stdout",
     "output_type": "stream",
     "text": [
      "Filter groomers:  82\n",
      "Sklearn NB:  0.1085   0.1009\n"
     ]
    },
    {
     "name": "stderr",
     "output_type": "stream",
     "text": [
      "100%|██████████| 13822/13822 [00:46<00:00, 299.36it/s]\n",
      "100%|██████████| 13822/13822 [00:15<00:00, 905.48it/s]\n"
     ]
    },
    {
     "name": "stdout",
     "output_type": "stream",
     "text": [
      "(13665, 11335)\n",
      "Filter groomers:  82\n",
      "Our NB:  0.1291   0.1201\n"
     ]
    },
    {
     "name": "stderr",
     "output_type": "stream",
     "text": [
      "  0%|          | 0/13822 [00:00<?, ?it/s]"
     ]
    },
    {
     "name": "stdout",
     "output_type": "stream",
     "text": [
      "Filter groomers:  82\n",
      "Sklearn NB:  0.1291   0.1201\n"
     ]
    },
    {
     "name": "stderr",
     "output_type": "stream",
     "text": [
      "100%|██████████| 13822/13822 [00:51<00:00, 267.11it/s]\n",
      "100%|██████████| 13822/13822 [00:16<00:00, 820.51it/s]\n"
     ]
    },
    {
     "name": "stdout",
     "output_type": "stream",
     "text": [
      "(13665, 11335)\n",
      "Filter groomers:  82\n",
      "Our NB:  0.1342   0.1249\n"
     ]
    },
    {
     "name": "stderr",
     "output_type": "stream",
     "text": [
      "  0%|          | 0/13822 [00:00<?, ?it/s]"
     ]
    },
    {
     "name": "stdout",
     "output_type": "stream",
     "text": [
      "Filter groomers:  82\n",
      "Sklearn NB:  0.1342   0.1249\n"
     ]
    },
    {
     "name": "stderr",
     "output_type": "stream",
     "text": [
      "100%|██████████| 13822/13822 [00:58<00:00, 237.24it/s]\n",
      "100%|██████████| 13822/13822 [00:18<00:00, 729.56it/s]\n"
     ]
    },
    {
     "name": "stdout",
     "output_type": "stream",
     "text": [
      "(13665, 11335)\n",
      "Filter groomers:  82\n",
      "Our NB:  0.1426   0.1328\n"
     ]
    },
    {
     "name": "stderr",
     "output_type": "stream",
     "text": [
      "  0%|          | 0/13822 [00:00<?, ?it/s]"
     ]
    },
    {
     "name": "stdout",
     "output_type": "stream",
     "text": [
      "Filter groomers:  82\n",
      "Sklearn NB:  0.1426   0.1328\n"
     ]
    },
    {
     "name": "stderr",
     "output_type": "stream",
     "text": [
      "100%|██████████| 13822/13822 [01:01<00:00, 224.32it/s]\n",
      "100%|██████████| 13822/13822 [00:19<00:00, 694.57it/s]\n"
     ]
    },
    {
     "name": "stdout",
     "output_type": "stream",
     "text": [
      "(13665, 11335)\n",
      "Filter groomers:  82\n",
      "Our NB:  0.164   0.1528\n",
      "Filter groomers:  82\n",
      "Sklearn NB:  0.164   0.1528\n",
      "[0.0319, 0.0509, 0.078, 0.0978, 0.0928, 0.1009, 0.1201, 0.1249, 0.1328, 0.1528]\n"
     ]
    },
    {
     "data": {
      "image/png": "[encoded data removed]",
      "text/plain": [
       "<Figure size 1000x400 with 1 Axes>"
      ]
     },
     "metadata": {},
     "output_type": "display_data"
    }
   ],
   "source": [
    "PATH = \"../../Data/PJZ.pkl\"\n",
    "mnb = calculating_preds(PATH,10)"
   ]
  }
 ],
 "metadata": {
  "kernelspec": {
   "display_name": "Python 3",
   "language": "python",
   "name": "python3"
  },
  "language_info": {
   "codemirror_mode": {
    "name": "ipython",
    "version": 3
   },
   "file_extension": ".py",
   "mimetype": "text/x-python",
   "name": "python",
   "nbconvert_exporter": "python",
   "pygments_lexer": "ipython3",
   "version": "3.6.10"
  }
 },
 "nbformat": 4,
 "nbformat_minor": 4
}
